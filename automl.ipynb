{
 "cells": [
  {
   "cell_type": "markdown",
   "metadata": {},
   "source": [
    "# Automated ML\n",
    "\n",
    "TODO: Import Dependencies. In the cell below, import all the dependencies that you will need to complete the project."
   ]
  },
  {
   "cell_type": "code",
   "execution_count": 1,
   "metadata": {
    "gather": {
     "logged": 1598423888013
    },
    "jupyter": {
     "outputs_hidden": false,
     "source_hidden": false
    },
    "nteract": {
     "transient": {
      "deleting": false
     }
    }
   },
   "outputs": [],
   "source": [
    "from azureml.core import Workspace, Experiment"
   ]
  },
  {
   "cell_type": "markdown",
   "metadata": {},
   "source": [
    "## Dataset\n",
    "\n",
    "### Overview\n",
    "TODO: In this markdown cell, give an overview of the dataset you are using. Also mention the task you will be performing.\n",
    "\n",
    "\n",
    "TODO: Get data. In the cell below, write code to access the data you will be using in this project. Remember that the dataset needs to be external."
   ]
  },
  {
   "cell_type": "code",
   "execution_count": 2,
   "metadata": {},
   "outputs": [],
   "source": [
    "# azureml-core of version 1.0.72 or higher is required\n",
    "# azureml-dataprep[pandas] of version 1.1.34 or higher is required\n",
    "from azureml.core import Workspace, Dataset\n",
    "\n",
    "subscription_id = '5a4ab2ba-6c51-4805-8155-58759ad589d8'\n",
    "resource_group = 'aml-quickstarts-155546'\n",
    "workspace_name = 'quick-starts-ws-155546'\n",
    "\n",
    "ws = Workspace(subscription_id, resource_group, workspace_name)\n",
    "\n",
    "dataset = Dataset.get_by_name(ws, name='HeartFailure_Dataset')\n",
    "dataset = dataset.to_pandas_dataframe()"
   ]
  },
  {
   "cell_type": "code",
   "execution_count": 3,
   "metadata": {},
   "outputs": [],
   "source": [
    "experiment_name = 'CapstoneProject'\n",
    "\n",
    "experiment=Experiment(ws, experiment_name)"
   ]
  },
  {
   "cell_type": "code",
   "execution_count": 4,
   "metadata": {},
   "outputs": [],
   "source": [
    "run = experiment.start_logging()"
   ]
  },
  {
   "cell_type": "code",
   "execution_count": 5,
   "metadata": {},
   "outputs": [
    {
     "name": "stdout",
     "output_type": "stream",
     "text": [
      "InProgress......\n",
      "SucceededProvisioning operation finished, operation \"Succeeded\"\n",
      "Succeeded\n",
      "AmlCompute wait for completion finished\n",
      "\n",
      "Minimum number of nodes requested have been provisioned\n"
     ]
    }
   ],
   "source": [
    "from azureml.core.compute import ComputeTarget, AmlCompute\n",
    "from azureml.core.compute_target import ComputeTargetException\n",
    "\n",
    "# Choose a name for your CPU cluster\n",
    "cpu_cluster_name = \"UdacityProject\"\n",
    "\n",
    "# Verify that cluster does not exist already\n",
    "try:\n",
    "    cpu_cluster = ComputeTarget(workspace=ws, name=cpu_cluster_name)\n",
    "    print('Found existing cluster')\n",
    "except ComputeTargetException:\n",
    "    compute_config = AmlCompute.provisioning_configuration(vm_size='STANDARD_D2_V2',\n",
    "                                                           max_nodes=4)\n",
    "    cpu_cluster = ComputeTarget.create(ws, cpu_cluster_name, compute_config)\n",
    "\n",
    "cpu_cluster.wait_for_completion(show_output=True)"
   ]
  },
  {
   "cell_type": "code",
   "execution_count": 6,
   "metadata": {},
   "outputs": [
    {
     "data": {
      "text/html": [
       "<div>\n",
       "<style scoped>\n",
       "    .dataframe tbody tr th:only-of-type {\n",
       "        vertical-align: middle;\n",
       "    }\n",
       "\n",
       "    .dataframe tbody tr th {\n",
       "        vertical-align: top;\n",
       "    }\n",
       "\n",
       "    .dataframe thead th {\n",
       "        text-align: right;\n",
       "    }\n",
       "</style>\n",
       "<table border=\"1\" class=\"dataframe\">\n",
       "  <thead>\n",
       "    <tr style=\"text-align: right;\">\n",
       "      <th></th>\n",
       "      <th>age</th>\n",
       "      <th>anaemia</th>\n",
       "      <th>creatinine_phosphokinase</th>\n",
       "      <th>diabetes</th>\n",
       "      <th>ejection_fraction</th>\n",
       "      <th>high_blood_pressure</th>\n",
       "      <th>platelets</th>\n",
       "      <th>serum_creatinine</th>\n",
       "      <th>serum_sodium</th>\n",
       "      <th>sex</th>\n",
       "      <th>smoking</th>\n",
       "      <th>time</th>\n",
       "      <th>DEATH_EVENT</th>\n",
       "    </tr>\n",
       "  </thead>\n",
       "  <tbody>\n",
       "    <tr>\n",
       "      <th>0</th>\n",
       "      <td>75.0</td>\n",
       "      <td>0</td>\n",
       "      <td>582</td>\n",
       "      <td>0</td>\n",
       "      <td>20</td>\n",
       "      <td>1</td>\n",
       "      <td>265000.00</td>\n",
       "      <td>1.9</td>\n",
       "      <td>130</td>\n",
       "      <td>1</td>\n",
       "      <td>0</td>\n",
       "      <td>4</td>\n",
       "      <td>1</td>\n",
       "    </tr>\n",
       "    <tr>\n",
       "      <th>1</th>\n",
       "      <td>55.0</td>\n",
       "      <td>0</td>\n",
       "      <td>7861</td>\n",
       "      <td>0</td>\n",
       "      <td>38</td>\n",
       "      <td>0</td>\n",
       "      <td>263358.03</td>\n",
       "      <td>1.1</td>\n",
       "      <td>136</td>\n",
       "      <td>1</td>\n",
       "      <td>0</td>\n",
       "      <td>6</td>\n",
       "      <td>1</td>\n",
       "    </tr>\n",
       "    <tr>\n",
       "      <th>2</th>\n",
       "      <td>65.0</td>\n",
       "      <td>0</td>\n",
       "      <td>146</td>\n",
       "      <td>0</td>\n",
       "      <td>20</td>\n",
       "      <td>0</td>\n",
       "      <td>162000.00</td>\n",
       "      <td>1.3</td>\n",
       "      <td>129</td>\n",
       "      <td>1</td>\n",
       "      <td>1</td>\n",
       "      <td>7</td>\n",
       "      <td>1</td>\n",
       "    </tr>\n",
       "    <tr>\n",
       "      <th>3</th>\n",
       "      <td>50.0</td>\n",
       "      <td>1</td>\n",
       "      <td>111</td>\n",
       "      <td>0</td>\n",
       "      <td>20</td>\n",
       "      <td>0</td>\n",
       "      <td>210000.00</td>\n",
       "      <td>1.9</td>\n",
       "      <td>137</td>\n",
       "      <td>1</td>\n",
       "      <td>0</td>\n",
       "      <td>7</td>\n",
       "      <td>1</td>\n",
       "    </tr>\n",
       "    <tr>\n",
       "      <th>4</th>\n",
       "      <td>65.0</td>\n",
       "      <td>1</td>\n",
       "      <td>160</td>\n",
       "      <td>1</td>\n",
       "      <td>20</td>\n",
       "      <td>0</td>\n",
       "      <td>327000.00</td>\n",
       "      <td>2.7</td>\n",
       "      <td>116</td>\n",
       "      <td>0</td>\n",
       "      <td>0</td>\n",
       "      <td>8</td>\n",
       "      <td>1</td>\n",
       "    </tr>\n",
       "  </tbody>\n",
       "</table>\n",
       "</div>"
      ],
      "text/plain": [
       "    age  anaemia  creatinine_phosphokinase  diabetes  ejection_fraction  \\\n",
       "0  75.0        0                       582         0                 20   \n",
       "1  55.0        0                      7861         0                 38   \n",
       "2  65.0        0                       146         0                 20   \n",
       "3  50.0        1                       111         0                 20   \n",
       "4  65.0        1                       160         1                 20   \n",
       "\n",
       "   high_blood_pressure  platelets  serum_creatinine  serum_sodium  sex  \\\n",
       "0                    1  265000.00               1.9           130    1   \n",
       "1                    0  263358.03               1.1           136    1   \n",
       "2                    0  162000.00               1.3           129    1   \n",
       "3                    0  210000.00               1.9           137    1   \n",
       "4                    0  327000.00               2.7           116    0   \n",
       "\n",
       "   smoking  time  DEATH_EVENT  \n",
       "0        0     4            1  \n",
       "1        0     6            1  \n",
       "2        1     7            1  \n",
       "3        0     7            1  \n",
       "4        0     8            1  "
      ]
     },
     "execution_count": 6,
     "metadata": {},
     "output_type": "execute_result"
    }
   ],
   "source": [
    "dataset.head()"
   ]
  },
  {
   "cell_type": "code",
   "execution_count": 7,
   "metadata": {},
   "outputs": [
    {
     "data": {
      "text/html": [
       "<div>\n",
       "<style scoped>\n",
       "    .dataframe tbody tr th:only-of-type {\n",
       "        vertical-align: middle;\n",
       "    }\n",
       "\n",
       "    .dataframe tbody tr th {\n",
       "        vertical-align: top;\n",
       "    }\n",
       "\n",
       "    .dataframe thead th {\n",
       "        text-align: right;\n",
       "    }\n",
       "</style>\n",
       "<table border=\"1\" class=\"dataframe\">\n",
       "  <thead>\n",
       "    <tr style=\"text-align: right;\">\n",
       "      <th></th>\n",
       "      <th>age</th>\n",
       "      <th>anaemia</th>\n",
       "      <th>creatinine_phosphokinase</th>\n",
       "      <th>diabetes</th>\n",
       "      <th>ejection_fraction</th>\n",
       "      <th>high_blood_pressure</th>\n",
       "      <th>platelets</th>\n",
       "      <th>serum_creatinine</th>\n",
       "      <th>serum_sodium</th>\n",
       "      <th>sex</th>\n",
       "      <th>smoking</th>\n",
       "      <th>time</th>\n",
       "      <th>DEATH_EVENT</th>\n",
       "    </tr>\n",
       "  </thead>\n",
       "  <tbody>\n",
       "    <tr>\n",
       "      <th>count</th>\n",
       "      <td>299.000000</td>\n",
       "      <td>299.000000</td>\n",
       "      <td>299.000000</td>\n",
       "      <td>299.000000</td>\n",
       "      <td>299.000000</td>\n",
       "      <td>299.000000</td>\n",
       "      <td>299.000000</td>\n",
       "      <td>299.00000</td>\n",
       "      <td>299.000000</td>\n",
       "      <td>299.000000</td>\n",
       "      <td>299.00000</td>\n",
       "      <td>299.000000</td>\n",
       "      <td>299.00000</td>\n",
       "    </tr>\n",
       "    <tr>\n",
       "      <th>mean</th>\n",
       "      <td>60.833893</td>\n",
       "      <td>0.431438</td>\n",
       "      <td>581.839465</td>\n",
       "      <td>0.418060</td>\n",
       "      <td>38.083612</td>\n",
       "      <td>0.351171</td>\n",
       "      <td>263358.029264</td>\n",
       "      <td>1.39388</td>\n",
       "      <td>136.625418</td>\n",
       "      <td>0.648829</td>\n",
       "      <td>0.32107</td>\n",
       "      <td>130.260870</td>\n",
       "      <td>0.32107</td>\n",
       "    </tr>\n",
       "    <tr>\n",
       "      <th>std</th>\n",
       "      <td>11.894809</td>\n",
       "      <td>0.496107</td>\n",
       "      <td>970.287881</td>\n",
       "      <td>0.494067</td>\n",
       "      <td>11.834841</td>\n",
       "      <td>0.478136</td>\n",
       "      <td>97804.236869</td>\n",
       "      <td>1.03451</td>\n",
       "      <td>4.412477</td>\n",
       "      <td>0.478136</td>\n",
       "      <td>0.46767</td>\n",
       "      <td>77.614208</td>\n",
       "      <td>0.46767</td>\n",
       "    </tr>\n",
       "    <tr>\n",
       "      <th>min</th>\n",
       "      <td>40.000000</td>\n",
       "      <td>0.000000</td>\n",
       "      <td>23.000000</td>\n",
       "      <td>0.000000</td>\n",
       "      <td>14.000000</td>\n",
       "      <td>0.000000</td>\n",
       "      <td>25100.000000</td>\n",
       "      <td>0.50000</td>\n",
       "      <td>113.000000</td>\n",
       "      <td>0.000000</td>\n",
       "      <td>0.00000</td>\n",
       "      <td>4.000000</td>\n",
       "      <td>0.00000</td>\n",
       "    </tr>\n",
       "    <tr>\n",
       "      <th>25%</th>\n",
       "      <td>51.000000</td>\n",
       "      <td>0.000000</td>\n",
       "      <td>116.500000</td>\n",
       "      <td>0.000000</td>\n",
       "      <td>30.000000</td>\n",
       "      <td>0.000000</td>\n",
       "      <td>212500.000000</td>\n",
       "      <td>0.90000</td>\n",
       "      <td>134.000000</td>\n",
       "      <td>0.000000</td>\n",
       "      <td>0.00000</td>\n",
       "      <td>73.000000</td>\n",
       "      <td>0.00000</td>\n",
       "    </tr>\n",
       "    <tr>\n",
       "      <th>50%</th>\n",
       "      <td>60.000000</td>\n",
       "      <td>0.000000</td>\n",
       "      <td>250.000000</td>\n",
       "      <td>0.000000</td>\n",
       "      <td>38.000000</td>\n",
       "      <td>0.000000</td>\n",
       "      <td>262000.000000</td>\n",
       "      <td>1.10000</td>\n",
       "      <td>137.000000</td>\n",
       "      <td>1.000000</td>\n",
       "      <td>0.00000</td>\n",
       "      <td>115.000000</td>\n",
       "      <td>0.00000</td>\n",
       "    </tr>\n",
       "    <tr>\n",
       "      <th>75%</th>\n",
       "      <td>70.000000</td>\n",
       "      <td>1.000000</td>\n",
       "      <td>582.000000</td>\n",
       "      <td>1.000000</td>\n",
       "      <td>45.000000</td>\n",
       "      <td>1.000000</td>\n",
       "      <td>303500.000000</td>\n",
       "      <td>1.40000</td>\n",
       "      <td>140.000000</td>\n",
       "      <td>1.000000</td>\n",
       "      <td>1.00000</td>\n",
       "      <td>203.000000</td>\n",
       "      <td>1.00000</td>\n",
       "    </tr>\n",
       "    <tr>\n",
       "      <th>max</th>\n",
       "      <td>95.000000</td>\n",
       "      <td>1.000000</td>\n",
       "      <td>7861.000000</td>\n",
       "      <td>1.000000</td>\n",
       "      <td>80.000000</td>\n",
       "      <td>1.000000</td>\n",
       "      <td>850000.000000</td>\n",
       "      <td>9.40000</td>\n",
       "      <td>148.000000</td>\n",
       "      <td>1.000000</td>\n",
       "      <td>1.00000</td>\n",
       "      <td>285.000000</td>\n",
       "      <td>1.00000</td>\n",
       "    </tr>\n",
       "  </tbody>\n",
       "</table>\n",
       "</div>"
      ],
      "text/plain": [
       "              age     anaemia  creatinine_phosphokinase    diabetes  \\\n",
       "count  299.000000  299.000000                299.000000  299.000000   \n",
       "mean    60.833893    0.431438                581.839465    0.418060   \n",
       "std     11.894809    0.496107                970.287881    0.494067   \n",
       "min     40.000000    0.000000                 23.000000    0.000000   \n",
       "25%     51.000000    0.000000                116.500000    0.000000   \n",
       "50%     60.000000    0.000000                250.000000    0.000000   \n",
       "75%     70.000000    1.000000                582.000000    1.000000   \n",
       "max     95.000000    1.000000               7861.000000    1.000000   \n",
       "\n",
       "       ejection_fraction  high_blood_pressure      platelets  \\\n",
       "count         299.000000           299.000000     299.000000   \n",
       "mean           38.083612             0.351171  263358.029264   \n",
       "std            11.834841             0.478136   97804.236869   \n",
       "min            14.000000             0.000000   25100.000000   \n",
       "25%            30.000000             0.000000  212500.000000   \n",
       "50%            38.000000             0.000000  262000.000000   \n",
       "75%            45.000000             1.000000  303500.000000   \n",
       "max            80.000000             1.000000  850000.000000   \n",
       "\n",
       "       serum_creatinine  serum_sodium         sex    smoking        time  \\\n",
       "count         299.00000    299.000000  299.000000  299.00000  299.000000   \n",
       "mean            1.39388    136.625418    0.648829    0.32107  130.260870   \n",
       "std             1.03451      4.412477    0.478136    0.46767   77.614208   \n",
       "min             0.50000    113.000000    0.000000    0.00000    4.000000   \n",
       "25%             0.90000    134.000000    0.000000    0.00000   73.000000   \n",
       "50%             1.10000    137.000000    1.000000    0.00000  115.000000   \n",
       "75%             1.40000    140.000000    1.000000    1.00000  203.000000   \n",
       "max             9.40000    148.000000    1.000000    1.00000  285.000000   \n",
       "\n",
       "       DEATH_EVENT  \n",
       "count    299.00000  \n",
       "mean       0.32107  \n",
       "std        0.46767  \n",
       "min        0.00000  \n",
       "25%        0.00000  \n",
       "50%        0.00000  \n",
       "75%        1.00000  \n",
       "max        1.00000  "
      ]
     },
     "execution_count": 7,
     "metadata": {},
     "output_type": "execute_result"
    }
   ],
   "source": [
    "dataset.describe()"
   ]
  },
  {
   "cell_type": "markdown",
   "metadata": {},
   "source": [
    "## AutoML Configuration\n",
    "\n",
    "TODO: Explain why you chose the automl settings and cofiguration you used below."
   ]
  },
  {
   "cell_type": "code",
   "execution_count": 10,
   "metadata": {},
   "outputs": [],
   "source": [
    "from sklearn.model_selection import train_test_split\n",
    "\n",
    "train, test = train_test_split(dataset, test_size=0.2, random_state=11)\n",
    "label_column_name = \"DEATH_EVENT\""
   ]
  },
  {
   "cell_type": "code",
   "execution_count": 12,
   "metadata": {
    "gather": {
     "logged": 1598429217746
    },
    "jupyter": {
     "outputs_hidden": false,
     "source_hidden": false
    },
    "nteract": {
     "transient": {
      "deleting": false
     }
    }
   },
   "outputs": [],
   "source": [
    "from azureml.train.automl import AutoMLConfig\n",
    "# TODO: Put your automl settings here\n",
    "automl_settings = {\n",
    "    \"n_cross_validations\": 5,\n",
    "    \"primary_metric\": \"accuracy\",\n",
    "    \"verbosity\": logging.INFO,\n",
    "    \"enable_stack_ensemble\": False,\n",
    "}\n",
    "\n",
    "\n",
    "# TODO: Put your automl config here\n",
    "automl_config = AutoMLConfig(\n",
    "    experiment_timeout_minutes=30,\n",
    "    task=\"classification\",\n",
    "    debug_log=\"automl_errors.log\",\n",
    "    training_data=train,\n",
    "    label_column_name=label_column_name,\n",
    "    **automl_settings)"
   ]
  },
  {
   "cell_type": "code",
   "execution_count": 13,
   "metadata": {
    "gather": {
     "logged": 1598431107951
    },
    "jupyter": {
     "outputs_hidden": false,
     "source_hidden": false
    },
    "nteract": {
     "transient": {
      "deleting": false
     }
    }
   },
   "outputs": [
    {
     "name": "stdout",
     "output_type": "stream",
     "text": [
      "No run_configuration provided, running on local with default configuration\n",
      "Running in the active local environment.\n"
     ]
    },
    {
     "data": {
      "text/html": [
       "<table style=\"width:100%\"><tr><th>Experiment</th><th>Id</th><th>Type</th><th>Status</th><th>Details Page</th><th>Docs Page</th></tr><tr><td>CapstoneProject</td><td>AutoML_9469f479-f934-476a-b99d-da4eafed7a22</td><td>automl</td><td>Preparing</td><td><a href=\"https://ml.azure.com/runs/AutoML_9469f479-f934-476a-b99d-da4eafed7a22?wsid=/subscriptions/5a4ab2ba-6c51-4805-8155-58759ad589d8/resourcegroups/aml-quickstarts-155546/workspaces/quick-starts-ws-155546&amp;tid=660b3398-b80e-49d2-bc5b-ac1dc93b5254\" target=\"_blank\" rel=\"noopener\">Link to Azure Machine Learning studio</a></td><td><a href=\"https://docs.microsoft.com/en-us/python/api/overview/azure/ml/intro?view=azure-ml-py\" target=\"_blank\" rel=\"noopener\">Link to Documentation</a></td></tr></table>"
      ],
      "text/plain": [
       "<IPython.core.display.HTML object>"
      ]
     },
     "metadata": {},
     "output_type": "display_data"
    },
    {
     "name": "stdout",
     "output_type": "stream",
     "text": [
      "Current status: DatasetEvaluation. Gathering dataset statistics.\n",
      "Current status: FeaturesGeneration. Generating features for the dataset.\n",
      "Current status: DatasetFeaturization. Beginning to fit featurizers and featurize the dataset.\n",
      "Current status: DatasetFeaturizationCompleted. Completed fit featurizers and featurizing the dataset.\n",
      "Current status: DatasetCrossValidationSplit. Generating individually featurized CV splits.\n",
      "\n",
      "****************************************************************************************************\n",
      "DATA GUARDRAILS: \n",
      "\n",
      "TYPE:         Class balancing detection\n",
      "STATUS:       PASSED\n",
      "DESCRIPTION:  Your inputs were analyzed, and all classes are balanced in your training data.\n",
      "              Learn more about imbalanced data: https://aka.ms/AutomatedMLImbalancedData\n",
      "\n",
      "****************************************************************************************************\n",
      "\n",
      "TYPE:         Missing feature values imputation\n",
      "STATUS:       PASSED\n",
      "DESCRIPTION:  No feature missing values were detected in the training data.\n",
      "              Learn more about missing value imputation: https://aka.ms/AutomatedMLFeaturization\n",
      "\n",
      "****************************************************************************************************\n",
      "\n",
      "TYPE:         High cardinality feature detection\n",
      "STATUS:       PASSED\n",
      "DESCRIPTION:  Your inputs were analyzed, and no high cardinality features were detected.\n",
      "              Learn more about high cardinality feature handling: https://aka.ms/AutomatedMLFeaturization\n",
      "\n",
      "****************************************************************************************************\n",
      "Current status: ModelSelection. Beginning model selection.\n",
      "\n",
      "****************************************************************************************************\n",
      "ITERATION: The iteration being evaluated.\n",
      "PIPELINE: A summary description of the pipeline being evaluated.\n",
      "DURATION: Time taken for the current iteration.\n",
      "METRIC: The result of computing score on the fitted pipeline.\n",
      "BEST: The best observed score thus far.\n",
      "****************************************************************************************************\n",
      "\n",
      " ITERATION   PIPELINE                                       DURATION      METRIC      BEST\n",
      "         0   MaxAbsScaler LightGBM                          0:00:24       0.7993    0.7993\n",
      "         1   MaxAbsScaler XGBoostClassifier                 0:00:22       0.8244    0.8244\n",
      "         2   MaxAbsScaler ExtremeRandomTrees                0:00:22       0.7909    0.8244\n",
      "         3   SparseNormalizer XGBoostClassifier             0:00:21       0.7831    0.8244\n",
      "         4   StandardScalerWrapper KNN                      0:00:24       0.5986    0.8244\n",
      "         5   MaxAbsScaler LightGBM                          0:00:21       0.8413    0.8413\n",
      "         6   RobustScaler LogisticRegression                0:00:21       0.7490    0.8413\n",
      "         7   MaxAbsScaler LightGBM                          0:00:22       0.8080    0.8413\n",
      "         8   StandardScalerWrapper KNN                      0:00:21       0.6111    0.8413\n",
      "         9   StandardScalerWrapper SVM                      0:00:20       0.6904    0.8413\n",
      "        10   StandardScalerWrapper XGBoostClassifier        0:00:21       0.8036    0.8413\n",
      "        11   MinMaxScaler RandomForest                      0:00:23       0.8329    0.8413\n",
      "        12   StandardScalerWrapper LogisticRegression       0:00:22       0.7450    0.8413\n",
      "        13   StandardScalerWrapper KNN                      0:00:20       0.7157    0.8413\n",
      "        14   RobustScaler KNN                               0:00:21       0.7282    0.8413\n",
      "        15   MinMaxScaler KNN                               0:00:20       0.6990    0.8413\n",
      "        16   SparseNormalizer KNN                           0:00:21       0.7535    0.8413\n",
      "        17   MaxAbsScaler LogisticRegression                0:00:22       0.8074    0.8413\n",
      "        18   StandardScalerWrapper XGBoostClassifier        0:00:24       0.7746    0.8413\n",
      "        19   StandardScalerWrapper XGBoostClassifier        0:00:21       0.8327    0.8413\n",
      "        20   MaxAbsScaler LogisticRegression                0:00:23       0.7991    0.8413\n",
      "        21   StandardScalerWrapper XGBoostClassifier        0:00:21       0.8538    0.8538\n",
      "        22   RobustScaler RandomForest                      0:00:21       0.8121    0.8538\n",
      "        23   RobustScaler LightGBM                          0:00:21       0.8204    0.8538\n",
      "        24   StandardScalerWrapper XGBoostClassifier        0:00:21       0.8200    0.8538\n",
      "        25   TruncatedSVDWrapper XGBoostClassifier          0:00:21       0.6698    0.8538\n",
      "        26   SparseNormalizer XGBoostClassifier             0:00:21       0.8121    0.8538\n",
      "        27   SparseNormalizer XGBoostClassifier             0:00:24       0.8163    0.8538\n",
      "        28   MinMaxScaler RandomForest                      0:00:24       0.8287    0.8538\n",
      "        29   StandardScalerWrapper XGBoostClassifier        0:00:21       0.7909    0.8538\n",
      "        30   StandardScalerWrapper XGBoostClassifier        0:00:22       0.8288    0.8538\n",
      "        31   MaxAbsScaler RandomForest                      0:00:22       0.7990    0.8538\n",
      "        32   VotingEnsemble                                 0:00:21       0.8748    0.8748\n",
      "Stopping criteria reached at iteration 33. Ending experiment.\n",
      "****************************************************************************************************\n",
      "Current status: BestRunExplainModel. Best run model explanations started\n",
      "Current status: ModelExplanationDataSetSetup. Model explanations data setup completed\n",
      "Current status: PickSurrogateModel. Choosing LightGBM as the surrogate model for explanations\n",
      "Current status: EngineeredFeatureExplanations. Computation of engineered features started\n",
      "Current status: EngineeredFeatureExplanations. Computation of engineered features completed\n",
      "Current status: RawFeaturesExplanations. Computation of raw features started\n",
      "Current status: RawFeaturesExplanations. Computation of raw features completed\n",
      "Current status: BestRunExplainModel. Best run model explanations completed\n",
      "****************************************************************************************************\n"
     ]
    }
   ],
   "source": [
    "# TODO: Submit your experiment\n",
    "remote_run = experiment.submit(automl_config,show_output = True)"
   ]
  },
  {
   "cell_type": "markdown",
   "metadata": {},
   "source": [
    "## Run Details\n",
    "\n",
    "OPTIONAL: Write about the different models trained and their performance. Why do you think some models did better than others?\n",
    "\n",
    "TODO: In the cell below, use the `RunDetails` widget to show the different experiments."
   ]
  },
  {
   "cell_type": "code",
   "execution_count": 15,
   "metadata": {
    "gather": {
     "logged": 1598431121770
    },
    "jupyter": {
     "outputs_hidden": false,
     "source_hidden": false
    },
    "nteract": {
     "transient": {
      "deleting": false
     }
    }
   },
   "outputs": [
    {
     "data": {
      "application/vnd.jupyter.widget-view+json": {
       "model_id": "4e77806fa1a34a6eae08e5fda8d6490e",
       "version_major": 2,
       "version_minor": 0
      },
      "text/plain": [
       "_AutoMLWidget(widget_settings={'childWidgetDisplay': 'popup', 'send_telemetry': False, 'log_level': 'INFO', 's…"
      ]
     },
     "metadata": {},
     "output_type": "display_data"
    },
    {
     "data": {
      "application/aml.mini.widget.v1": "{\"status\": \"Completed\", \"workbench_run_details_uri\": \"https://ml.azure.com/runs/AutoML_9469f479-f934-476a-b99d-da4eafed7a22?wsid=/subscriptions/5a4ab2ba-6c51-4805-8155-58759ad589d8/resourcegroups/aml-quickstarts-155546/workspaces/quick-starts-ws-155546&tid=660b3398-b80e-49d2-bc5b-ac1dc93b5254\", \"run_id\": \"AutoML_9469f479-f934-476a-b99d-da4eafed7a22\", \"run_properties\": {\"run_id\": \"AutoML_9469f479-f934-476a-b99d-da4eafed7a22\", \"created_utc\": \"2021-08-23T22:46:46.462691Z\", \"properties\": {\"num_iterations\": \"1000\", \"training_type\": \"TrainFull\", \"acquisition_function\": \"EI\", \"primary_metric\": \"accuracy\", \"train_split\": \"0\", \"acquisition_parameter\": \"0\", \"num_cross_validation\": \"5\", \"target\": \"local\", \"AMLSettingsJsonString\": \"{\\\"path\\\":null,\\\"name\\\":\\\"CapstoneProject\\\",\\\"subscription_id\\\":\\\"5a4ab2ba-6c51-4805-8155-58759ad589d8\\\",\\\"resource_group\\\":\\\"aml-quickstarts-155546\\\",\\\"workspace_name\\\":\\\"quick-starts-ws-155546\\\",\\\"region\\\":\\\"southcentralus\\\",\\\"compute_target\\\":\\\"local\\\",\\\"spark_service\\\":null,\\\"azure_service\\\":\\\"Microsoft.AzureNotebookVM\\\",\\\"many_models\\\":false,\\\"pipeline_fetch_max_batch_size\\\":1,\\\"enable_batch_run\\\":false,\\\"enable_run_restructure\\\":false,\\\"start_auxiliary_runs_before_parent_complete\\\":false,\\\"enable_code_generation\\\":false,\\\"iterations\\\":1000,\\\"primary_metric\\\":\\\"accuracy\\\",\\\"task_type\\\":\\\"classification\\\",\\\"data_script\\\":null,\\\"test_size\\\":0.0,\\\"validation_size\\\":0.0,\\\"n_cross_validations\\\":5,\\\"y_min\\\":null,\\\"y_max\\\":null,\\\"num_classes\\\":null,\\\"featurization\\\":\\\"auto\\\",\\\"_ignore_package_version_incompatibilities\\\":false,\\\"is_timeseries\\\":false,\\\"max_cores_per_iteration\\\":1,\\\"max_concurrent_iterations\\\":1,\\\"iteration_timeout_minutes\\\":null,\\\"mem_in_mb\\\":null,\\\"enforce_time_on_windows\\\":false,\\\"experiment_timeout_minutes\\\":30,\\\"experiment_exit_score\\\":null,\\\"whitelist_models\\\":null,\\\"blacklist_algos\\\":[\\\"TensorFlowLinearClassifier\\\",\\\"TensorFlowDNN\\\"],\\\"supported_models\\\":[\\\"GradientBoosting\\\",\\\"RandomForest\\\",\\\"LinearSVM\\\",\\\"KNN\\\",\\\"DecisionTree\\\",\\\"AveragedPerceptronClassifier\\\",\\\"MultinomialNaiveBayes\\\",\\\"LogisticRegression\\\",\\\"SVM\\\",\\\"ExtremeRandomTrees\\\",\\\"XGBoostClassifier\\\",\\\"TensorFlowDNN\\\",\\\"BernoulliNaiveBayes\\\",\\\"SGD\\\",\\\"LightGBM\\\",\\\"TensorFlowLinearClassifier\\\"],\\\"private_models\\\":[],\\\"auto_blacklist\\\":true,\\\"blacklist_samples_reached\\\":false,\\\"exclude_nan_labels\\\":true,\\\"verbosity\\\":20,\\\"_debug_log\\\":\\\"automl_errors.log\\\",\\\"show_warnings\\\":false,\\\"model_explainability\\\":true,\\\"service_url\\\":null,\\\"sdk_url\\\":null,\\\"sdk_packages\\\":null,\\\"enable_onnx_compatible_models\\\":false,\\\"enable_split_onnx_featurizer_estimator_models\\\":false,\\\"vm_type\\\":null,\\\"telemetry_verbosity\\\":20,\\\"send_telemetry\\\":true,\\\"enable_dnn\\\":false,\\\"scenario\\\":\\\"SDK-1.13.0\\\",\\\"environment_label\\\":null,\\\"save_mlflow\\\":false,\\\"force_text_dnn\\\":false,\\\"enable_feature_sweeping\\\":true,\\\"enable_early_stopping\\\":true,\\\"early_stopping_n_iters\\\":10,\\\"metrics\\\":null,\\\"enable_metric_confidence\\\":false,\\\"enable_ensembling\\\":true,\\\"enable_stack_ensembling\\\":false,\\\"ensemble_iterations\\\":15,\\\"enable_tf\\\":false,\\\"enable_subsampling\\\":null,\\\"subsample_seed\\\":null,\\\"enable_nimbusml\\\":false,\\\"enable_streaming\\\":false,\\\"force_streaming\\\":false,\\\"track_child_runs\\\":true,\\\"allowed_private_models\\\":[],\\\"label_column_name\\\":\\\"DEATH_EVENT\\\",\\\"weight_column_name\\\":null,\\\"cv_split_column_names\\\":null,\\\"enable_local_managed\\\":false,\\\"_local_managed_run_id\\\":null,\\\"cost_mode\\\":1,\\\"lag_length\\\":0,\\\"metric_operation\\\":\\\"maximize\\\",\\\"preprocess\\\":true}\", \"DataPrepJsonString\": null, \"EnableSubsampling\": null, \"runTemplate\": \"AutoML\", \"azureml.runsource\": \"automl\", \"display_task_type\": \"classification\", \"dependencies_versions\": \"{\\\"azureml-widgets\\\": \\\"1.33.0\\\", \\\"azureml-train\\\": \\\"1.33.0\\\", \\\"azureml-train-restclients-hyperdrive\\\": \\\"1.33.0\\\", \\\"azureml-train-core\\\": \\\"1.33.0\\\", \\\"azureml-train-automl\\\": \\\"1.33.0\\\", \\\"azureml-train-automl-runtime\\\": \\\"1.33.0\\\", \\\"azureml-train-automl-client\\\": \\\"1.33.0\\\", \\\"azureml-tensorboard\\\": \\\"1.33.0\\\", \\\"azureml-telemetry\\\": \\\"1.33.0\\\", \\\"azureml-sdk\\\": \\\"1.33.0\\\", \\\"azureml-samples\\\": \\\"0+unknown\\\", \\\"azureml-responsibleai\\\": \\\"1.33.0\\\", \\\"azureml-pipeline\\\": \\\"1.33.0\\\", \\\"azureml-pipeline-steps\\\": \\\"1.33.0\\\", \\\"azureml-pipeline-core\\\": \\\"1.33.0\\\", \\\"azureml-opendatasets\\\": \\\"1.33.0\\\", \\\"azureml-mlflow\\\": \\\"1.33.0\\\", \\\"azureml-interpret\\\": \\\"1.33.0\\\", \\\"azureml-explain-model\\\": \\\"1.33.0\\\", \\\"azureml-defaults\\\": \\\"1.33.0\\\", \\\"azureml-dataset-runtime\\\": \\\"1.33.0\\\", \\\"azureml-dataprep\\\": \\\"2.20.1\\\", \\\"azureml-dataprep-rslex\\\": \\\"1.18.0\\\", \\\"azureml-dataprep-native\\\": \\\"38.0.0\\\", \\\"azureml-datadrift\\\": \\\"1.33.0\\\", \\\"azureml-core\\\": \\\"1.33.0\\\", \\\"azureml-contrib-services\\\": \\\"1.33.0\\\", \\\"azureml-contrib-server\\\": \\\"1.33.0\\\", \\\"azureml-contrib-reinforcementlearning\\\": \\\"1.33.0\\\", \\\"azureml-contrib-pipeline-steps\\\": \\\"1.33.0\\\", \\\"azureml-contrib-notebook\\\": \\\"1.33.0\\\", \\\"azureml-contrib-fairness\\\": \\\"1.33.0\\\", \\\"azureml-contrib-dataset\\\": \\\"1.33.0\\\", \\\"azureml-cli-common\\\": \\\"1.33.0\\\", \\\"azureml-automl-runtime\\\": \\\"1.33.0\\\", \\\"azureml-automl-dnn-nlp\\\": \\\"1.33.0\\\", \\\"azureml-automl-core\\\": \\\"1.33.0\\\", \\\"azureml-accel-models\\\": \\\"1.33.0\\\"}\", \"_aml_system_scenario_identification\": \"Local.Parent\", \"ClientSdkVersion\": \"1.33.0\", \"ClientType\": \"SDK\", \"environment_cpu_name\": \"AzureML-AutoML\", \"environment_cpu_label\": \"prod\", \"environment_gpu_name\": \"AzureML-AutoML-GPU\", \"environment_gpu_label\": \"prod\", \"root_attribution\": \"automl\", \"attribution\": \"AutoML\", \"Orchestrator\": \"AutoML\", \"_azureml.ComputeTargetType\": \"local\", \"ProblemInfoJsonString\": \"{\\\"dataset_num_categorical\\\": 0, \\\"is_sparse\\\": false, \\\"subsampling\\\": false, \\\"has_extra_col\\\": true, \\\"dataset_classes\\\": 2, \\\"dataset_features\\\": 12, \\\"dataset_samples\\\": 239, \\\"single_frequency_class_detected\\\": false}\"}, \"tags\": {\"model_explain_run\": \"best_run\", \"best_score\": \"0.874822695035461\", \"best_pipeline\": \"VotingEnsemble\", \"automl_best_child_run_id\": \"AutoML_9469f479-f934-476a-b99d-da4eafed7a22_32\", \"model_explain_best_run_child_id\": \"AutoML_9469f479-f934-476a-b99d-da4eafed7a22_32\"}, \"end_time_utc\": \"2021-08-23T23:00:14.849824Z\", \"status\": \"Completed\", \"log_files\": {}, \"log_groups\": [], \"run_duration\": \"0:13:28\", \"run_number\": \"2\", \"run_queued_details\": {\"status\": \"Completed\", \"details\": null}}, \"child_runs\": [{\"run_id\": \"AutoML_9469f479-f934-476a-b99d-da4eafed7a22_0\", \"run_number\": 3, \"metric\": null, \"status\": \"Completed\", \"run_type\": null, \"training_percent\": \"100\", \"start_time\": \"2021-08-23T22:47:03.086166Z\", \"end_time\": \"2021-08-23T22:47:27.462713Z\", \"created_time\": \"2021-08-23T22:47:02.962155Z\", \"created_time_dt\": \"2021-08-23T22:47:02.962155Z\", \"duration\": \"0:00:24\", \"iteration\": \"0\", \"goal\": \"accuracy_max\", \"run_name\": \"MaxAbsScaler, LightGBM\", \"run_properties\": \"copy=True\", \"primary_metric\": 0.79929078, \"best_metric\": 0.79929078}, {\"run_id\": \"AutoML_9469f479-f934-476a-b99d-da4eafed7a22_1\", \"run_number\": 4, \"metric\": null, \"status\": \"Completed\", \"run_type\": null, \"training_percent\": \"100\", \"start_time\": \"2021-08-23T22:47:27.836804Z\", \"end_time\": \"2021-08-23T22:47:50.490491Z\", \"created_time\": \"2021-08-23T22:47:27.71948Z\", \"created_time_dt\": \"2021-08-23T22:47:27.71948Z\", \"duration\": \"0:00:22\", \"iteration\": \"1\", \"goal\": \"accuracy_max\", \"run_name\": \"MaxAbsScaler, XGBoostClassifier\", \"run_properties\": \"copy=True\", \"primary_metric\": 0.82437943, \"best_metric\": 0.82437943}, {\"run_id\": \"AutoML_9469f479-f934-476a-b99d-da4eafed7a22_2\", \"run_number\": 5, \"metric\": null, \"status\": \"Completed\", \"run_type\": null, \"training_percent\": \"100\", \"start_time\": \"2021-08-23T22:47:51.612076Z\", \"end_time\": \"2021-08-23T22:48:14.336501Z\", \"created_time\": \"2021-08-23T22:47:51.494462Z\", \"created_time_dt\": \"2021-08-23T22:47:51.494462Z\", \"duration\": \"0:00:22\", \"iteration\": \"2\", \"goal\": \"accuracy_max\", \"run_name\": \"MaxAbsScaler, ExtremeRandomTrees\", \"run_properties\": \"copy=True\", \"primary_metric\": 0.79086879, \"best_metric\": 0.82437943}, {\"run_id\": \"AutoML_9469f479-f934-476a-b99d-da4eafed7a22_3\", \"run_number\": 6, \"metric\": null, \"status\": \"Completed\", \"run_type\": null, \"training_percent\": \"100\", \"start_time\": \"2021-08-23T22:48:15.824379Z\", \"end_time\": \"2021-08-23T22:48:37.055331Z\", \"created_time\": \"2021-08-23T22:48:15.671714Z\", \"created_time_dt\": \"2021-08-23T22:48:15.671714Z\", \"duration\": \"0:00:21\", \"iteration\": \"3\", \"goal\": \"accuracy_max\", \"run_name\": \"SparseNormalizer, XGBoostClassifier\", \"run_properties\": \"copy=True, norm='l2'\", \"primary_metric\": 0.78306738, \"best_metric\": 0.82437943}, {\"run_id\": \"AutoML_9469f479-f934-476a-b99d-da4eafed7a22_4\", \"run_number\": 7, \"metric\": null, \"status\": \"Completed\", \"run_type\": null, \"training_percent\": \"100\", \"start_time\": \"2021-08-23T22:48:38.434931Z\", \"end_time\": \"2021-08-23T22:49:02.462844Z\", \"created_time\": \"2021-08-23T22:48:38.318129Z\", \"created_time_dt\": \"2021-08-23T22:48:38.318129Z\", \"duration\": \"0:00:24\", \"iteration\": \"4\", \"goal\": \"accuracy_max\", \"run_name\": \"StandardScalerWrapper, KNN\", \"run_properties\": \"\\n    copy=True,\\n    with_mean=False,\\n    with_std=False\\n\", \"primary_metric\": 0.59858156, \"best_metric\": 0.82437943}, {\"run_id\": \"AutoML_9469f479-f934-476a-b99d-da4eafed7a22_5\", \"run_number\": 8, \"metric\": null, \"status\": \"Completed\", \"run_type\": null, \"training_percent\": \"100\", \"start_time\": \"2021-08-23T22:49:03.943364Z\", \"end_time\": \"2021-08-23T22:49:24.914599Z\", \"created_time\": \"2021-08-23T22:49:03.825094Z\", \"created_time_dt\": \"2021-08-23T22:49:03.825094Z\", \"duration\": \"0:00:21\", \"iteration\": \"5\", \"goal\": \"accuracy_max\", \"run_name\": \"MaxAbsScaler, LightGBM\", \"run_properties\": \"copy=True\", \"primary_metric\": 0.84131206, \"best_metric\": 0.84131206}, {\"run_id\": \"AutoML_9469f479-f934-476a-b99d-da4eafed7a22_6\", \"run_number\": 9, \"metric\": null, \"status\": \"Completed\", \"run_type\": null, \"training_percent\": \"100\", \"start_time\": \"2021-08-23T22:49:26.541445Z\", \"end_time\": \"2021-08-23T22:49:48.200664Z\", \"created_time\": \"2021-08-23T22:49:26.39806Z\", \"created_time_dt\": \"2021-08-23T22:49:26.39806Z\", \"duration\": \"0:00:21\", \"iteration\": \"6\", \"goal\": \"accuracy_max\", \"run_name\": \"RobustScaler, LogisticRegression\", \"run_properties\": \"copy=True, quantile_range=[10, 90], with_centering=True,\\n             with_scaling=True\", \"primary_metric\": 0.74902482, \"best_metric\": 0.84131206}, {\"run_id\": \"AutoML_9469f479-f934-476a-b99d-da4eafed7a22_7\", \"run_number\": 10, \"metric\": null, \"status\": \"Completed\", \"run_type\": null, \"training_percent\": \"100\", \"start_time\": \"2021-08-23T22:49:49.619591Z\", \"end_time\": \"2021-08-23T22:50:11.548515Z\", \"created_time\": \"2021-08-23T22:49:49.498335Z\", \"created_time_dt\": \"2021-08-23T22:49:49.498335Z\", \"duration\": \"0:00:22\", \"iteration\": \"7\", \"goal\": \"accuracy_max\", \"run_name\": \"MaxAbsScaler, LightGBM\", \"run_properties\": \"copy=True\", \"primary_metric\": 0.80797872, \"best_metric\": 0.84131206}, {\"run_id\": \"AutoML_9469f479-f934-476a-b99d-da4eafed7a22_8\", \"run_number\": 11, \"metric\": null, \"status\": \"Completed\", \"run_type\": null, \"training_percent\": \"100\", \"start_time\": \"2021-08-23T22:50:13.003753Z\", \"end_time\": \"2021-08-23T22:50:34.531337Z\", \"created_time\": \"2021-08-23T22:50:12.865839Z\", \"created_time_dt\": \"2021-08-23T22:50:12.865839Z\", \"duration\": \"0:00:21\", \"iteration\": \"8\", \"goal\": \"accuracy_max\", \"run_name\": \"StandardScalerWrapper, KNN\", \"run_properties\": \"\\n    copy=True,\\n    with_mean=False,\\n    with_std=False\\n\", \"primary_metric\": 0.61108156, \"best_metric\": 0.84131206}, {\"run_id\": \"AutoML_9469f479-f934-476a-b99d-da4eafed7a22_9\", \"run_number\": 12, \"metric\": null, \"status\": \"Completed\", \"run_type\": null, \"training_percent\": \"100\", \"start_time\": \"2021-08-23T22:50:35.903576Z\", \"end_time\": \"2021-08-23T22:50:56.788285Z\", \"created_time\": \"2021-08-23T22:50:35.777323Z\", \"created_time_dt\": \"2021-08-23T22:50:35.777323Z\", \"duration\": \"0:00:21\", \"iteration\": \"9\", \"goal\": \"accuracy_max\", \"run_name\": \"StandardScalerWrapper, SVM\", \"run_properties\": \"\\n    copy=True,\\n    with_mean=True,\\n    with_std=True\\n\", \"primary_metric\": 0.69042553, \"best_metric\": 0.84131206}, {\"run_id\": \"AutoML_9469f479-f934-476a-b99d-da4eafed7a22_10\", \"run_number\": 13, \"metric\": null, \"status\": \"Completed\", \"run_type\": null, \"training_percent\": \"100\", \"start_time\": \"2021-08-23T22:50:58.440871Z\", \"end_time\": \"2021-08-23T22:51:20.220695Z\", \"created_time\": \"2021-08-23T22:50:58.119584Z\", \"created_time_dt\": \"2021-08-23T22:50:58.119584Z\", \"duration\": \"0:00:22\", \"iteration\": \"10\", \"goal\": \"accuracy_max\", \"run_name\": \"StandardScalerWrapper, XGBoostClassifier\", \"run_properties\": \"\\n    copy=True,\\n    with_mean=False,\\n    with_std=False\\n\", \"primary_metric\": 0.80363475, \"best_metric\": 0.84131206}, {\"run_id\": \"AutoML_9469f479-f934-476a-b99d-da4eafed7a22_11\", \"run_number\": 14, \"metric\": null, \"status\": \"Completed\", \"run_type\": null, \"training_percent\": \"100\", \"start_time\": \"2021-08-23T22:51:21.815969Z\", \"end_time\": \"2021-08-23T22:51:44.841527Z\", \"created_time\": \"2021-08-23T22:51:21.678277Z\", \"created_time_dt\": \"2021-08-23T22:51:21.678277Z\", \"duration\": \"0:00:23\", \"iteration\": \"11\", \"goal\": \"accuracy_max\", \"run_name\": \"MinMaxScaler, RandomForest\", \"run_properties\": \"copy=True, feature_range=(0, 1\", \"primary_metric\": 0.83289007, \"best_metric\": 0.84131206}, {\"run_id\": \"AutoML_9469f479-f934-476a-b99d-da4eafed7a22_12\", \"run_number\": 15, \"metric\": null, \"status\": \"Completed\", \"run_type\": null, \"training_percent\": \"100\", \"start_time\": \"2021-08-23T22:51:46.497679Z\", \"end_time\": \"2021-08-23T22:52:08.797967Z\", \"created_time\": \"2021-08-23T22:51:46.141806Z\", \"created_time_dt\": \"2021-08-23T22:51:46.141806Z\", \"duration\": \"0:00:22\", \"iteration\": \"12\", \"goal\": \"accuracy_max\", \"run_name\": \"StandardScalerWrapper, LogisticRegression\", \"run_properties\": \"\\n    copy=True,\\n    with_mean=True,\\n    with_std=False\\n\", \"primary_metric\": 0.74503546, \"best_metric\": 0.84131206}, {\"run_id\": \"AutoML_9469f479-f934-476a-b99d-da4eafed7a22_13\", \"run_number\": 16, \"metric\": null, \"status\": \"Completed\", \"run_type\": null, \"training_percent\": \"100\", \"start_time\": \"2021-08-23T22:52:10.278745Z\", \"end_time\": \"2021-08-23T22:52:31.036956Z\", \"created_time\": \"2021-08-23T22:52:10.141962Z\", \"created_time_dt\": \"2021-08-23T22:52:10.141962Z\", \"duration\": \"0:00:20\", \"iteration\": \"13\", \"goal\": \"accuracy_max\", \"run_name\": \"StandardScalerWrapper, KNN\", \"run_properties\": \"\\n    copy=True,\\n    with_mean=False,\\n    with_std=True\\n\", \"primary_metric\": 0.71569149, \"best_metric\": 0.84131206}, {\"run_id\": \"AutoML_9469f479-f934-476a-b99d-da4eafed7a22_14\", \"run_number\": 17, \"metric\": null, \"status\": \"Completed\", \"run_type\": null, \"training_percent\": \"100\", \"start_time\": \"2021-08-23T22:52:32.77969Z\", \"end_time\": \"2021-08-23T22:52:53.954005Z\", \"created_time\": \"2021-08-23T22:52:32.661124Z\", \"created_time_dt\": \"2021-08-23T22:52:32.661124Z\", \"duration\": \"0:00:21\", \"iteration\": \"14\", \"goal\": \"accuracy_max\", \"run_name\": \"RobustScaler, KNN\", \"run_properties\": \"copy=True, quantile_range=[10, 90], with_centering=False,\\n             with_scaling=True\", \"primary_metric\": 0.72819149, \"best_metric\": 0.84131206}, {\"run_id\": \"AutoML_9469f479-f934-476a-b99d-da4eafed7a22_15\", \"run_number\": 18, \"metric\": null, \"status\": \"Completed\", \"run_type\": null, \"training_percent\": \"100\", \"start_time\": \"2021-08-23T22:52:56.855473Z\", \"end_time\": \"2021-08-23T22:53:17.573884Z\", \"created_time\": \"2021-08-23T22:52:56.72793Z\", \"created_time_dt\": \"2021-08-23T22:52:56.72793Z\", \"duration\": \"0:00:20\", \"iteration\": \"15\", \"goal\": \"accuracy_max\", \"run_name\": \"MinMaxScaler, KNN\", \"run_properties\": \"copy=True, feature_range=(0, 1\", \"primary_metric\": 0.69902482, \"best_metric\": 0.84131206}, {\"run_id\": \"AutoML_9469f479-f934-476a-b99d-da4eafed7a22_16\", \"run_number\": 19, \"metric\": null, \"status\": \"Completed\", \"run_type\": null, \"training_percent\": \"100\", \"start_time\": \"2021-08-23T22:53:19.279977Z\", \"end_time\": \"2021-08-23T22:53:40.741286Z\", \"created_time\": \"2021-08-23T22:53:19.166929Z\", \"created_time_dt\": \"2021-08-23T22:53:19.166929Z\", \"duration\": \"0:00:21\", \"iteration\": \"16\", \"goal\": \"accuracy_max\", \"run_name\": \"SparseNormalizer, KNN\", \"run_properties\": \"copy=True, norm='max'\", \"primary_metric\": 0.75345745, \"best_metric\": 0.84131206}, {\"run_id\": \"AutoML_9469f479-f934-476a-b99d-da4eafed7a22_17\", \"run_number\": 20, \"metric\": null, \"status\": \"Completed\", \"run_type\": null, \"training_percent\": \"100\", \"start_time\": \"2021-08-23T22:53:42.165067Z\", \"end_time\": \"2021-08-23T22:54:04.680487Z\", \"created_time\": \"2021-08-23T22:53:42.05005Z\", \"created_time_dt\": \"2021-08-23T22:53:42.05005Z\", \"duration\": \"0:00:22\", \"iteration\": \"17\", \"goal\": \"accuracy_max\", \"run_name\": \"MaxAbsScaler, LogisticRegression\", \"run_properties\": \"copy=True\", \"primary_metric\": 0.80744681, \"best_metric\": 0.84131206}, {\"run_id\": \"AutoML_9469f479-f934-476a-b99d-da4eafed7a22_18\", \"run_number\": 21, \"metric\": null, \"status\": \"Completed\", \"run_type\": null, \"training_percent\": \"100\", \"start_time\": \"2021-08-23T22:54:06.380459Z\", \"end_time\": \"2021-08-23T22:54:30.29909Z\", \"created_time\": \"2021-08-23T22:54:06.240851Z\", \"created_time_dt\": \"2021-08-23T22:54:06.240851Z\", \"duration\": \"0:00:24\", \"iteration\": \"18\", \"goal\": \"accuracy_max\", \"run_name\": \"StandardScalerWrapper, XGBoostClassifier\", \"run_properties\": \"\\n    copy=True,\\n    with_mean=False,\\n    with_std=False\\n\", \"primary_metric\": 0.77455674, \"best_metric\": 0.84131206}, {\"run_id\": \"AutoML_9469f479-f934-476a-b99d-da4eafed7a22_19\", \"run_number\": 22, \"metric\": null, \"status\": \"Completed\", \"run_type\": null, \"training_percent\": \"100\", \"start_time\": \"2021-08-23T22:54:31.977038Z\", \"end_time\": \"2021-08-23T22:54:53.708174Z\", \"created_time\": \"2021-08-23T22:54:31.839205Z\", \"created_time_dt\": \"2021-08-23T22:54:31.839205Z\", \"duration\": \"0:00:21\", \"iteration\": \"19\", \"goal\": \"accuracy_max\", \"run_name\": \"StandardScalerWrapper, XGBoostClassifier\", \"run_properties\": \"\\n    copy=True,\\n    with_mean=False,\\n    with_std=False\\n\", \"primary_metric\": 0.83271277, \"best_metric\": 0.84131206}, {\"run_id\": \"AutoML_9469f479-f934-476a-b99d-da4eafed7a22_20\", \"run_number\": 23, \"metric\": null, \"status\": \"Completed\", \"run_type\": null, \"training_percent\": \"100\", \"start_time\": \"2021-08-23T22:54:55.124834Z\", \"end_time\": \"2021-08-23T22:55:18.38657Z\", \"created_time\": \"2021-08-23T22:54:54.986868Z\", \"created_time_dt\": \"2021-08-23T22:54:54.986868Z\", \"duration\": \"0:00:23\", \"iteration\": \"20\", \"goal\": \"accuracy_max\", \"run_name\": \"MaxAbsScaler, LogisticRegression\", \"run_properties\": \"copy=True\", \"primary_metric\": 0.79911348, \"best_metric\": 0.84131206}, {\"run_id\": \"AutoML_9469f479-f934-476a-b99d-da4eafed7a22_21\", \"run_number\": 24, \"metric\": null, \"status\": \"Completed\", \"run_type\": null, \"training_percent\": \"100\", \"start_time\": \"2021-08-23T22:55:19.806949Z\", \"end_time\": \"2021-08-23T22:55:41.704075Z\", \"created_time\": \"2021-08-23T22:55:19.681605Z\", \"created_time_dt\": \"2021-08-23T22:55:19.681605Z\", \"duration\": \"0:00:22\", \"iteration\": \"21\", \"goal\": \"accuracy_max\", \"run_name\": \"StandardScalerWrapper, XGBoostClassifier\", \"run_properties\": \"\\n    copy=True,\\n    with_mean=False,\\n    with_std=False\\n\", \"primary_metric\": 0.85381206, \"best_metric\": 0.85381206}, {\"run_id\": \"AutoML_9469f479-f934-476a-b99d-da4eafed7a22_22\", \"run_number\": 25, \"metric\": null, \"status\": \"Completed\", \"run_type\": null, \"training_percent\": \"100\", \"start_time\": \"2021-08-23T22:55:43.169616Z\", \"end_time\": \"2021-08-23T22:56:04.497565Z\", \"created_time\": \"2021-08-23T22:55:43.016323Z\", \"created_time_dt\": \"2021-08-23T22:55:43.016323Z\", \"duration\": \"0:00:21\", \"iteration\": \"22\", \"goal\": \"accuracy_max\", \"run_name\": \"RobustScaler, RandomForest\", \"run_properties\": \"copy=True, quantile_range=[10, 90], with_centering=True,\\n             with_scaling=True\", \"primary_metric\": 0.81214539, \"best_metric\": 0.85381206}, {\"run_id\": \"AutoML_9469f479-f934-476a-b99d-da4eafed7a22_23\", \"run_number\": 26, \"metric\": null, \"status\": \"Completed\", \"run_type\": null, \"training_percent\": \"100\", \"start_time\": \"2021-08-23T22:56:05.950051Z\", \"end_time\": \"2021-08-23T22:56:26.972002Z\", \"created_time\": \"2021-08-23T22:56:05.836599Z\", \"created_time_dt\": \"2021-08-23T22:56:05.836599Z\", \"duration\": \"0:00:21\", \"iteration\": \"23\", \"goal\": \"accuracy_max\", \"run_name\": \"RobustScaler, LightGBM\", \"run_properties\": \"copy=True, quantile_range=[25, 75], with_centering=True,\\n             with_scaling=False\", \"primary_metric\": 0.82039007, \"best_metric\": 0.85381206}, {\"run_id\": \"AutoML_9469f479-f934-476a-b99d-da4eafed7a22_24\", \"run_number\": 27, \"metric\": null, \"status\": \"Completed\", \"run_type\": null, \"training_percent\": \"100\", \"start_time\": \"2021-08-23T22:56:28.372798Z\", \"end_time\": \"2021-08-23T22:56:49.527506Z\", \"created_time\": \"2021-08-23T22:56:28.226514Z\", \"created_time_dt\": \"2021-08-23T22:56:28.226514Z\", \"duration\": \"0:00:21\", \"iteration\": \"24\", \"goal\": \"accuracy_max\", \"run_name\": \"StandardScalerWrapper, XGBoostClassifier\", \"run_properties\": \"\\n    copy=True,\\n    with_mean=False,\\n    with_std=False\\n\", \"primary_metric\": 0.82003546, \"best_metric\": 0.85381206}, {\"run_id\": \"AutoML_9469f479-f934-476a-b99d-da4eafed7a22_25\", \"run_number\": 28, \"metric\": null, \"status\": \"Completed\", \"run_type\": null, \"training_percent\": \"100\", \"start_time\": \"2021-08-23T22:57:02.290652Z\", \"end_time\": \"2021-08-23T22:57:24.007125Z\", \"created_time\": \"2021-08-23T22:57:02.168906Z\", \"created_time_dt\": \"2021-08-23T22:57:02.168906Z\", \"duration\": \"0:00:21\", \"iteration\": \"25\", \"goal\": \"accuracy_max\", \"run_name\": \"TruncatedSVDWrapper, XGBoostClassifier\", \"run_properties\": \"n_components=0.8510526315789474, random_state=None\", \"primary_metric\": 0.6697695, \"best_metric\": 0.85381206}, {\"run_id\": \"AutoML_9469f479-f934-476a-b99d-da4eafed7a22_26\", \"run_number\": 29, \"metric\": null, \"status\": \"Completed\", \"run_type\": null, \"training_percent\": \"100\", \"start_time\": \"2021-08-23T22:57:25.533671Z\", \"end_time\": \"2021-08-23T22:57:47.003362Z\", \"created_time\": \"2021-08-23T22:57:25.397958Z\", \"created_time_dt\": \"2021-08-23T22:57:25.397958Z\", \"duration\": \"0:00:21\", \"iteration\": \"26\", \"goal\": \"accuracy_max\", \"run_name\": \"SparseNormalizer, XGBoostClassifier\", \"run_properties\": \"copy=True, norm='l1'\", \"primary_metric\": 0.81214539, \"best_metric\": 0.85381206}, {\"run_id\": \"AutoML_9469f479-f934-476a-b99d-da4eafed7a22_27\", \"run_number\": 30, \"metric\": null, \"status\": \"Completed\", \"run_type\": null, \"training_percent\": \"100\", \"start_time\": \"2021-08-23T22:57:48.390324Z\", \"end_time\": \"2021-08-23T22:58:12.647946Z\", \"created_time\": \"2021-08-23T22:57:48.270042Z\", \"created_time_dt\": \"2021-08-23T22:57:48.270042Z\", \"duration\": \"0:00:24\", \"iteration\": \"27\", \"goal\": \"accuracy_max\", \"run_name\": \"SparseNormalizer, XGBoostClassifier\", \"run_properties\": \"copy=True, norm='l2'\", \"primary_metric\": 0.81631206, \"best_metric\": 0.85381206}, {\"run_id\": \"AutoML_9469f479-f934-476a-b99d-da4eafed7a22_28\", \"run_number\": 31, \"metric\": null, \"status\": \"Completed\", \"run_type\": null, \"training_percent\": \"100\", \"start_time\": \"2021-08-23T22:58:14.133184Z\", \"end_time\": \"2021-08-23T22:58:38.89229Z\", \"created_time\": \"2021-08-23T22:58:14.007068Z\", \"created_time_dt\": \"2021-08-23T22:58:14.007068Z\", \"duration\": \"0:00:24\", \"iteration\": \"28\", \"goal\": \"accuracy_max\", \"run_name\": \"MinMaxScaler, RandomForest\", \"run_properties\": \"copy=True, feature_range=(0, 1\", \"primary_metric\": 0.8287234, \"best_metric\": 0.85381206}, {\"run_id\": \"AutoML_9469f479-f934-476a-b99d-da4eafed7a22_29\", \"run_number\": 32, \"metric\": null, \"status\": \"Completed\", \"run_type\": null, \"training_percent\": \"100\", \"start_time\": \"2021-08-23T22:58:40.435183Z\", \"end_time\": \"2021-08-23T22:59:01.97739Z\", \"created_time\": \"2021-08-23T22:58:40.295086Z\", \"created_time_dt\": \"2021-08-23T22:58:40.295086Z\", \"duration\": \"0:00:21\", \"iteration\": \"29\", \"goal\": \"accuracy_max\", \"run_name\": \"StandardScalerWrapper, XGBoostClassifier\", \"run_properties\": \"\\n    copy=True,\\n    with_mean=False,\\n    with_std=False\\n\", \"primary_metric\": 0.79086879, \"best_metric\": 0.85381206}, {\"run_id\": \"AutoML_9469f479-f934-476a-b99d-da4eafed7a22_30\", \"run_number\": 33, \"metric\": null, \"status\": \"Completed\", \"run_type\": null, \"training_percent\": \"100\", \"start_time\": \"2021-08-23T22:59:06.901786Z\", \"end_time\": \"2021-08-23T22:59:29.082223Z\", \"created_time\": \"2021-08-23T22:59:06.696415Z\", \"created_time_dt\": \"2021-08-23T22:59:06.696415Z\", \"duration\": \"0:00:22\", \"iteration\": \"30\", \"goal\": \"accuracy_max\", \"run_name\": \"StandardScalerWrapper, XGBoostClassifier\", \"run_properties\": \"\\n    copy=True,\\n    with_mean=False,\\n    with_std=False\\n\", \"primary_metric\": 0.82881206, \"best_metric\": 0.85381206}, {\"run_id\": \"AutoML_9469f479-f934-476a-b99d-da4eafed7a22_31\", \"run_number\": 34, \"metric\": null, \"status\": \"Completed\", \"run_type\": null, \"training_percent\": \"100\", \"start_time\": \"2021-08-23T22:59:30.557281Z\", \"end_time\": \"2021-08-23T22:59:52.967477Z\", \"created_time\": \"2021-08-23T22:59:30.421701Z\", \"created_time_dt\": \"2021-08-23T22:59:30.421701Z\", \"duration\": \"0:00:22\", \"iteration\": \"31\", \"goal\": \"accuracy_max\", \"run_name\": \"MaxAbsScaler, RandomForest\", \"run_properties\": \"copy=True\", \"primary_metric\": 0.79902482, \"best_metric\": 0.85381206}, {\"run_id\": \"AutoML_9469f479-f934-476a-b99d-da4eafed7a22_32\", \"run_number\": 35, \"metric\": null, \"status\": \"Completed\", \"run_type\": null, \"training_percent\": \"100\", \"start_time\": \"2021-08-23T22:59:53.45537Z\", \"end_time\": \"2021-08-23T23:00:14.489169Z\", \"created_time\": \"2021-08-23T22:59:53.306131Z\", \"created_time_dt\": \"2021-08-23T22:59:53.306131Z\", \"duration\": \"0:00:21\", \"iteration\": \"32\", \"goal\": \"accuracy_max\", \"run_name\": \"VotingEnsemble\", \"run_properties\": \"\\n    estimators=[('21', Pipeline(\\n        memory=None,\\n        steps=[('standardscalerwrapper', StandardScalerWrapper(\\n            copy=True,\\n            with_mean=False,\\n            with_std=False\\n        \", \"primary_metric\": 0.8748227, \"best_metric\": 0.8748227}], \"children_metrics\": {\"categories\": [0], \"series\": {\"average_precision_score_weighted\": [{\"categories\": [\"0\", \"1\", \"2\", \"3\", \"4\", \"5\", \"6\", \"7\", \"8\", \"9\", \"10\", \"11\", \"12\", \"13\", \"14\", \"15\", \"16\", \"17\", \"18\", \"19\", \"20\", \"21\", \"22\", \"23\", \"24\", \"25\", \"26\", \"27\", \"28\", \"29\", \"30\", \"31\", \"32\"], \"mode\": \"markers\", \"name\": \"average_precision_score_weighted\", \"stepped\": false, \"type\": \"scatter\", \"data\": [0.889002335110011, 0.9104555789987243, 0.8732171560978713, 0.8618918445268455, 0.5632580886068854, 0.9114185738117465, 0.8487013414706217, 0.9192654973599946, 0.5639113246355087, 0.7707289041057266, 0.8699990528489632, 0.9071597764220746, 0.8731112897917933, 0.8424875585152634, 0.7439530764151101, 0.7317795301723325, 0.8026059183644867, 0.8656506839981368, 0.8850769185160642, 0.8998152292982846, 0.8486577810277243, 0.9042101805122797, 0.8835746411864545, 0.9056324556481924, 0.9018290409677148, 0.5616210986620391, 0.8881735502738353, 0.8870191575834114, 0.8962016270702879, 0.8710970658461805, 0.8898792368684058, 0.896311255997011, 0.9201841043277417]}, {\"categories\": [\"0\", \"1\", \"2\", \"3\", \"4\", \"5\", \"6\", \"7\", \"8\", \"9\", \"10\", \"11\", \"12\", \"13\", \"14\", \"15\", \"16\", \"17\", \"18\", \"19\", \"20\", \"21\", \"22\", \"23\", \"24\", \"25\", \"26\", \"27\", \"28\", \"29\", \"30\", \"31\", \"32\"], \"mode\": \"lines\", \"name\": \"average_precision_score_weighted_max\", \"stepped\": true, \"type\": \"scatter\", \"data\": [0.889002335110011, 0.9104555789987243, 0.9104555789987243, 0.9104555789987243, 0.9104555789987243, 0.9114185738117465, 0.9114185738117465, 0.9192654973599946, 0.9192654973599946, 0.9192654973599946, 0.9192654973599946, 0.9192654973599946, 0.9192654973599946, 0.9192654973599946, 0.9192654973599946, 0.9192654973599946, 0.9192654973599946, 0.9192654973599946, 0.9192654973599946, 0.9192654973599946, 0.9192654973599946, 0.9192654973599946, 0.9192654973599946, 0.9192654973599946, 0.9192654973599946, 0.9192654973599946, 0.9192654973599946, 0.9192654973599946, 0.9192654973599946, 0.9192654973599946, 0.9192654973599946, 0.9192654973599946, 0.9201841043277417]}], \"weighted_accuracy\": [{\"categories\": [\"0\", \"1\", \"2\", \"3\", \"4\", \"5\", \"6\", \"7\", \"8\", \"9\", \"10\", \"11\", \"12\", \"13\", \"14\", \"15\", \"16\", \"17\", \"18\", \"19\", \"20\", \"21\", \"22\", \"23\", \"24\", \"25\", \"26\", \"27\", \"28\", \"29\", \"30\", \"31\", \"32\"], \"mode\": \"markers\", \"name\": \"weighted_accuracy\", \"stepped\": false, \"type\": \"scatter\", \"data\": [0.8247418456961219, 0.855458746853655, 0.8145320811915429, 0.8286348767370504, 0.6605386202130872, 0.8693361866995815, 0.7629242069562648, 0.8565070744569079, 0.6850980387251812, 0.754956056629402, 0.8395890430579108, 0.8369802269547462, 0.7304032481639904, 0.8223584201184, 0.785648335412094, 0.7776997724252553, 0.8095439057979077, 0.8496790963601185, 0.8200509266916589, 0.864645711602231, 0.8342601559570767, 0.8819852600275429, 0.8318959503310615, 0.8432028781073253, 0.8561166716403884, 0.798833818246672, 0.8446303043466404, 0.8454146180721305, 0.8625078740783163, 0.8372091280251658, 0.8723968139143347, 0.8118001900020543, 0.9020908324205033]}, {\"categories\": [\"0\", \"1\", \"2\", \"3\", \"4\", \"5\", \"6\", \"7\", \"8\", \"9\", \"10\", \"11\", \"12\", \"13\", \"14\", \"15\", \"16\", \"17\", \"18\", \"19\", \"20\", \"21\", \"22\", \"23\", \"24\", \"25\", \"26\", \"27\", \"28\", \"29\", \"30\", \"31\", \"32\"], \"mode\": \"lines\", \"name\": \"weighted_accuracy_max\", \"stepped\": true, \"type\": \"scatter\", \"data\": [0.8247418456961219, 0.855458746853655, 0.855458746853655, 0.855458746853655, 0.855458746853655, 0.8693361866995815, 0.8693361866995815, 0.8693361866995815, 0.8693361866995815, 0.8693361866995815, 0.8693361866995815, 0.8693361866995815, 0.8693361866995815, 0.8693361866995815, 0.8693361866995815, 0.8693361866995815, 0.8693361866995815, 0.8693361866995815, 0.8693361866995815, 0.8693361866995815, 0.8693361866995815, 0.8819852600275429, 0.8819852600275429, 0.8819852600275429, 0.8819852600275429, 0.8819852600275429, 0.8819852600275429, 0.8819852600275429, 0.8819852600275429, 0.8819852600275429, 0.8819852600275429, 0.8819852600275429, 0.9020908324205033]}], \"norm_macro_recall\": [{\"categories\": [\"0\", \"1\", \"2\", \"3\", \"4\", \"5\", \"6\", \"7\", \"8\", \"9\", \"10\", \"11\", \"12\", \"13\", \"14\", \"15\", \"16\", \"17\", \"18\", \"19\", \"20\", \"21\", \"22\", \"23\", \"24\", \"25\", \"26\", \"27\", \"28\", \"29\", \"30\", \"31\", \"32\"], \"mode\": \"markers\", \"name\": \"norm_macro_recall\", \"stepped\": false, \"type\": \"scatter\", \"data\": [0.5292712842712842, 0.5642406204906204, 0.5207395382395383, 0.4550234487734488, 0.06888888888888892, 0.6138419913419912, 0.45796176046176046, 0.4936724386724386, 0.0404040404040404, 0.21193903318903323, 0.5159758297258297, 0.6594588744588745, 0.531424963924964, 0.15100288600288597, 0.30234487734487736, 0.19290043290043296, 0.3676028138528139, 0.500508658008658, 0.4397438672438672, 0.5849332611832613, 0.50382215007215, 0.6385137085137085, 0.5765818903318903, 0.5831096681096681, 0.5455393217893217, 0.0, 0.5457864357864357, 0.5621753246753247, 0.5724025974025974, 0.45828643578643574, 0.5474224386724387, 0.5640025252525253, 0.6817983405483405]}, {\"categories\": [\"0\", \"1\", \"2\", \"3\", \"4\", \"5\", \"6\", \"7\", \"8\", \"9\", \"10\", \"11\", \"12\", \"13\", \"14\", \"15\", \"16\", \"17\", \"18\", \"19\", \"20\", \"21\", \"22\", \"23\", \"24\", \"25\", \"26\", \"27\", \"28\", \"29\", \"30\", \"31\", \"32\"], \"mode\": \"lines\", \"name\": \"norm_macro_recall_max\", \"stepped\": true, \"type\": \"scatter\", \"data\": [0.5292712842712842, 0.5642406204906204, 0.5642406204906204, 0.5642406204906204, 0.5642406204906204, 0.6138419913419912, 0.6138419913419912, 0.6138419913419912, 0.6138419913419912, 0.6138419913419912, 0.6138419913419912, 0.6594588744588745, 0.6594588744588745, 0.6594588744588745, 0.6594588744588745, 0.6594588744588745, 0.6594588744588745, 0.6594588744588745, 0.6594588744588745, 0.6594588744588745, 0.6594588744588745, 0.6594588744588745, 0.6594588744588745, 0.6594588744588745, 0.6594588744588745, 0.6594588744588745, 0.6594588744588745, 0.6594588744588745, 0.6594588744588745, 0.6594588744588745, 0.6594588744588745, 0.6594588744588745, 0.6817983405483405]}], \"precision_score_macro\": [{\"categories\": [\"0\", \"1\", \"2\", \"3\", \"4\", \"5\", \"6\", \"7\", \"8\", \"9\", \"10\", \"11\", \"12\", \"13\", \"14\", \"15\", \"16\", \"17\", \"18\", \"19\", \"20\", \"21\", \"22\", \"23\", \"24\", \"25\", \"26\", \"27\", \"28\", \"29\", \"30\", \"31\", \"32\"], \"mode\": \"markers\", \"name\": \"precision_score_macro\", \"stepped\": false, \"type\": \"scatter\", \"data\": [0.7738160319410319, 0.8076501860712387, 0.7604789411252885, 0.7729107225392056, 0.518904918610801, 0.8319559607059606, 0.7189856344635757, 0.8098859473859473, 0.5106268720581942, 0.6398503748503749, 0.7836979686979687, 0.809445713866992, 0.7337728481104161, 0.7862672222732889, 0.691002024291498, 0.6661316169210906, 0.7440394125706243, 0.7910969585969586, 0.7608205743691945, 0.8230589671766142, 0.7800439288674583, 0.8478542752072163, 0.7883252164502165, 0.7984839058000823, 0.8073177723177724, 0.33488475177304966, 0.7979716017951312, 0.8033509546009545, 0.8180701510113275, 0.7739441101670202, 0.8345624408397192, 0.770950388058742, 0.8754431516196222]}, {\"categories\": [\"0\", \"1\", \"2\", \"3\", \"4\", \"5\", \"6\", \"7\", \"8\", \"9\", \"10\", \"11\", \"12\", \"13\", \"14\", \"15\", \"16\", \"17\", \"18\", \"19\", \"20\", \"21\", \"22\", \"23\", \"24\", \"25\", \"26\", \"27\", \"28\", \"29\", \"30\", \"31\", \"32\"], \"mode\": \"lines\", \"name\": \"precision_score_macro_max\", \"stepped\": true, \"type\": \"scatter\", \"data\": [0.7738160319410319, 0.8076501860712387, 0.8076501860712387, 0.8076501860712387, 0.8076501860712387, 0.8319559607059606, 0.8319559607059606, 0.8319559607059606, 0.8319559607059606, 0.8319559607059606, 0.8319559607059606, 0.8319559607059606, 0.8319559607059606, 0.8319559607059606, 0.8319559607059606, 0.8319559607059606, 0.8319559607059606, 0.8319559607059606, 0.8319559607059606, 0.8319559607059606, 0.8319559607059606, 0.8478542752072163, 0.8478542752072163, 0.8478542752072163, 0.8478542752072163, 0.8478542752072163, 0.8478542752072163, 0.8478542752072163, 0.8478542752072163, 0.8478542752072163, 0.8478542752072163, 0.8478542752072163, 0.8754431516196222]}], \"f1_score_macro\": [{\"categories\": [\"0\", \"1\", \"2\", \"3\", \"4\", \"5\", \"6\", \"7\", \"8\", \"9\", \"10\", \"11\", \"12\", \"13\", \"14\", \"15\", \"16\", \"17\", \"18\", \"19\", \"20\", \"21\", \"22\", \"23\", \"24\", \"25\", \"26\", \"27\", \"28\", \"29\", \"30\", \"31\", \"32\"], \"mode\": \"markers\", \"name\": \"f1_score_macro\", \"stepped\": false, \"type\": \"scatter\", \"data\": [0.7670578925607389, 0.7915393645486443, 0.7588304154911005, 0.7323583393967026, 0.5129102506806491, 0.8131294127317558, 0.721069050951865, 0.7569902984806726, 0.5024149475408056, 0.6070042502472441, 0.763072117291563, 0.816043306940443, 0.7328378561747552, 0.5459070346932995, 0.6571912501110464, 0.5903181903412617, 0.6838388278388278, 0.7619086797265165, 0.7190454319727975, 0.8005613333801499, 0.7596866263611994, 0.8266019250594059, 0.7863995207828224, 0.7935774209381996, 0.7821949111215089, 0.40069348898617185, 0.7767623884029633, 0.7847429596844868, 0.7951433018209686, 0.7417141044630091, 0.7857020908274923, 0.7749407256517751, 0.8525962885154061]}, {\"categories\": [\"0\", \"1\", \"2\", \"3\", \"4\", \"5\", \"6\", \"7\", \"8\", \"9\", \"10\", \"11\", \"12\", \"13\", \"14\", \"15\", \"16\", \"17\", \"18\", \"19\", \"20\", \"21\", \"22\", \"23\", \"24\", \"25\", \"26\", \"27\", \"28\", \"29\", \"30\", \"31\", \"32\"], \"mode\": \"lines\", \"name\": \"f1_score_macro_max\", \"stepped\": true, \"type\": \"scatter\", \"data\": [0.7670578925607389, 0.7915393645486443, 0.7915393645486443, 0.7915393645486443, 0.7915393645486443, 0.8131294127317558, 0.8131294127317558, 0.8131294127317558, 0.8131294127317558, 0.8131294127317558, 0.8131294127317558, 0.816043306940443, 0.816043306940443, 0.816043306940443, 0.816043306940443, 0.816043306940443, 0.816043306940443, 0.816043306940443, 0.816043306940443, 0.816043306940443, 0.816043306940443, 0.8266019250594059, 0.8266019250594059, 0.8266019250594059, 0.8266019250594059, 0.8266019250594059, 0.8266019250594059, 0.8266019250594059, 0.8266019250594059, 0.8266019250594059, 0.8266019250594059, 0.8266019250594059, 0.8525962885154061]}], \"matthews_correlation\": [{\"categories\": [\"0\", \"1\", \"2\", \"3\", \"4\", \"5\", \"6\", \"7\", \"8\", \"9\", \"10\", \"11\", \"12\", \"13\", \"14\", \"15\", \"16\", \"17\", \"18\", \"19\", \"20\", \"21\", \"22\", \"23\", \"24\", \"25\", \"26\", \"27\", \"28\", \"29\", \"30\", \"31\", \"32\"], \"mode\": \"markers\", \"name\": \"matthews_correlation\", \"stepped\": false, \"type\": \"scatter\", \"data\": [0.5380316292663486, 0.5888818379054503, 0.520520620786783, 0.49619841346477056, 0.03335233679997811, 0.6374571300078216, 0.44778378011711756, 0.5506003556079937, 0.022132271040253025, 0.24294382389394564, 0.5400491309941585, 0.6383737116463213, 0.49802373818155543, 0.2895835604892664, 0.3389043418792696, 0.24835720749556148, 0.41843044800042756, 0.5392622510436051, 0.47547766459602264, 0.6140323394303018, 0.530715471990679, 0.6654871049532263, 0.5762544039351493, 0.589805464549148, 0.5783431991550702, 0.0, 0.5691337976744096, 0.5828897292222177, 0.6027405699273389, 0.5008002969624723, 0.6025396221753303, 0.5526690226829973, 0.7151734817492599]}, {\"categories\": [\"0\", \"1\", \"2\", \"3\", \"4\", \"5\", \"6\", \"7\", \"8\", \"9\", \"10\", \"11\", \"12\", \"13\", \"14\", \"15\", \"16\", \"17\", \"18\", \"19\", \"20\", \"21\", \"22\", \"23\", \"24\", \"25\", \"26\", \"27\", \"28\", \"29\", \"30\", \"31\", \"32\"], \"mode\": \"lines\", \"name\": \"matthews_correlation_max\", \"stepped\": true, \"type\": \"scatter\", \"data\": [0.5380316292663486, 0.5888818379054503, 0.5888818379054503, 0.5888818379054503, 0.5888818379054503, 0.6374571300078216, 0.6374571300078216, 0.6374571300078216, 0.6374571300078216, 0.6374571300078216, 0.6374571300078216, 0.6383737116463213, 0.6383737116463213, 0.6383737116463213, 0.6383737116463213, 0.6383737116463213, 0.6383737116463213, 0.6383737116463213, 0.6383737116463213, 0.6383737116463213, 0.6383737116463213, 0.6654871049532263, 0.6654871049532263, 0.6654871049532263, 0.6654871049532263, 0.6654871049532263, 0.6654871049532263, 0.6654871049532263, 0.6654871049532263, 0.6654871049532263, 0.6654871049532263, 0.6654871049532263, 0.7151734817492599]}], \"average_precision_score_micro\": [{\"categories\": [\"0\", \"1\", \"2\", \"3\", \"4\", \"5\", \"6\", \"7\", \"8\", \"9\", \"10\", \"11\", \"12\", \"13\", \"14\", \"15\", \"16\", \"17\", \"18\", \"19\", \"20\", \"21\", \"22\", \"23\", \"24\", \"25\", \"26\", \"27\", \"28\", \"29\", \"30\", \"31\", \"32\"], \"mode\": \"markers\", \"name\": \"average_precision_score_micro\", \"stepped\": false, \"type\": \"scatter\", \"data\": [0.8982130318457161, 0.9158674580511432, 0.8757964924837769, 0.8667873055620184, 0.5745858400210413, 0.9136322237253994, 0.8474777997577265, 0.8972671350868898, 0.5882399131918642, 0.7870741835933417, 0.8743314268131014, 0.9056529704864253, 0.8344193373688322, 0.8275141665193854, 0.7623532811744951, 0.7572354371331624, 0.8086726772281022, 0.8742322938842004, 0.8814051557898746, 0.8993922445863308, 0.8639177171364754, 0.9060078342822239, 0.8895619954221932, 0.9089399134458868, 0.8979647162238544, 0.6156953011040691, 0.892181106987703, 0.8931769193764294, 0.9057193344914787, 0.8716270930842093, 0.8884266535819755, 0.894960455924544, 0.9198838149002964]}, {\"categories\": [\"0\", \"1\", \"2\", \"3\", \"4\", \"5\", \"6\", \"7\", \"8\", \"9\", \"10\", \"11\", \"12\", \"13\", \"14\", \"15\", \"16\", \"17\", \"18\", \"19\", \"20\", \"21\", \"22\", \"23\", \"24\", \"25\", \"26\", \"27\", \"28\", \"29\", \"30\", \"31\", \"32\"], \"mode\": \"lines\", \"name\": \"average_precision_score_micro_max\", \"stepped\": true, \"type\": \"scatter\", \"data\": [0.8982130318457161, 0.9158674580511432, 0.9158674580511432, 0.9158674580511432, 0.9158674580511432, 0.9158674580511432, 0.9158674580511432, 0.9158674580511432, 0.9158674580511432, 0.9158674580511432, 0.9158674580511432, 0.9158674580511432, 0.9158674580511432, 0.9158674580511432, 0.9158674580511432, 0.9158674580511432, 0.9158674580511432, 0.9158674580511432, 0.9158674580511432, 0.9158674580511432, 0.9158674580511432, 0.9158674580511432, 0.9158674580511432, 0.9158674580511432, 0.9158674580511432, 0.9158674580511432, 0.9158674580511432, 0.9158674580511432, 0.9158674580511432, 0.9158674580511432, 0.9158674580511432, 0.9158674580511432, 0.9198838149002964]}], \"AUC_micro\": [{\"categories\": [\"0\", \"1\", \"2\", \"3\", \"4\", \"5\", \"6\", \"7\", \"8\", \"9\", \"10\", \"11\", \"12\", \"13\", \"14\", \"15\", \"16\", \"17\", \"18\", \"19\", \"20\", \"21\", \"22\", \"23\", \"24\", \"25\", \"26\", \"27\", \"28\", \"29\", \"30\", \"31\", \"32\"], \"mode\": \"markers\", \"name\": \"AUC_micro\", \"stepped\": false, \"type\": \"scatter\", \"data\": [0.893122830843519, 0.9108161922815754, 0.8707251505834716, 0.8618476026105327, 0.5946164837030331, 0.9119931954504301, 0.8481818774835268, 0.8955309482043157, 0.6162861211709674, 0.7853963308246568, 0.8701473375961974, 0.9086600821764499, 0.8353206264775412, 0.8213542845556059, 0.7840960747698806, 0.7604373758236508, 0.8198207066420199, 0.8713187999849101, 0.8775472656053518, 0.897698297054977, 0.8636724447965394, 0.909887463218651, 0.8947086335571651, 0.9045241845229114, 0.8980277966400081, 0.6697695035460993, 0.8895096527463406, 0.8909162642724209, 0.9050002200593532, 0.8773764838287812, 0.8916620297017254, 0.8907016671067852, 0.9172734017403551]}, {\"categories\": [\"0\", \"1\", \"2\", \"3\", \"4\", \"5\", \"6\", \"7\", \"8\", \"9\", \"10\", \"11\", \"12\", \"13\", \"14\", \"15\", \"16\", \"17\", \"18\", \"19\", \"20\", \"21\", \"22\", \"23\", \"24\", \"25\", \"26\", \"27\", \"28\", \"29\", \"30\", \"31\", \"32\"], \"mode\": \"lines\", \"name\": \"AUC_micro_max\", \"stepped\": true, \"type\": \"scatter\", \"data\": [0.893122830843519, 0.9108161922815754, 0.9108161922815754, 0.9108161922815754, 0.9108161922815754, 0.9119931954504301, 0.9119931954504301, 0.9119931954504301, 0.9119931954504301, 0.9119931954504301, 0.9119931954504301, 0.9119931954504301, 0.9119931954504301, 0.9119931954504301, 0.9119931954504301, 0.9119931954504301, 0.9119931954504301, 0.9119931954504301, 0.9119931954504301, 0.9119931954504301, 0.9119931954504301, 0.9119931954504301, 0.9119931954504301, 0.9119931954504301, 0.9119931954504301, 0.9119931954504301, 0.9119931954504301, 0.9119931954504301, 0.9119931954504301, 0.9119931954504301, 0.9119931954504301, 0.9119931954504301, 0.9172734017403551]}], \"f1_score_micro\": [{\"categories\": [\"0\", \"1\", \"2\", \"3\", \"4\", \"5\", \"6\", \"7\", \"8\", \"9\", \"10\", \"11\", \"12\", \"13\", \"14\", \"15\", \"16\", \"17\", \"18\", \"19\", \"20\", \"21\", \"22\", \"23\", \"24\", \"25\", \"26\", \"27\", \"28\", \"29\", \"30\", \"31\", \"32\"], \"mode\": \"markers\", \"name\": \"f1_score_micro\", \"stepped\": false, \"type\": \"scatter\", \"data\": [0.799290780141844, 0.8243794326241133, 0.7908687943262411, 0.7830673758865248, 0.5985815602836879, 0.8413120567375886, 0.7490248226950353, 0.8079787234042554, 0.611081560283688, 0.6904255319148935, 0.8036347517730495, 0.8328900709219859, 0.7450354609929077, 0.7156914893617021, 0.7281914893617021, 0.6990248226950355, 0.7534574468085106, 0.8074468085106383, 0.7745567375886525, 0.8327127659574469, 0.799113475177305, 0.8538120567375886, 0.812145390070922, 0.8203900709219857, 0.8200354609929077, 0.6697695035460993, 0.812145390070922, 0.8163120567375886, 0.8287234042553191, 0.7908687943262411, 0.8288120567375887, 0.7990248226950354, 0.874822695035461]}, {\"categories\": [\"0\", \"1\", \"2\", \"3\", \"4\", \"5\", \"6\", \"7\", \"8\", \"9\", \"10\", \"11\", \"12\", \"13\", \"14\", \"15\", \"16\", \"17\", \"18\", \"19\", \"20\", \"21\", \"22\", \"23\", \"24\", \"25\", \"26\", \"27\", \"28\", \"29\", \"30\", \"31\", \"32\"], \"mode\": \"lines\", \"name\": \"f1_score_micro_max\", \"stepped\": true, \"type\": \"scatter\", \"data\": [0.799290780141844, 0.8243794326241133, 0.8243794326241133, 0.8243794326241133, 0.8243794326241133, 0.8413120567375886, 0.8413120567375886, 0.8413120567375886, 0.8413120567375886, 0.8413120567375886, 0.8413120567375886, 0.8413120567375886, 0.8413120567375886, 0.8413120567375886, 0.8413120567375886, 0.8413120567375886, 0.8413120567375886, 0.8413120567375886, 0.8413120567375886, 0.8413120567375886, 0.8413120567375886, 0.8538120567375886, 0.8538120567375886, 0.8538120567375886, 0.8538120567375886, 0.8538120567375886, 0.8538120567375886, 0.8538120567375886, 0.8538120567375886, 0.8538120567375886, 0.8538120567375886, 0.8538120567375886, 0.874822695035461]}], \"AUC_macro\": [{\"categories\": [\"0\", \"1\", \"2\", \"3\", \"4\", \"5\", \"6\", \"7\", \"8\", \"9\", \"10\", \"11\", \"12\", \"13\", \"14\", \"15\", \"16\", \"17\", \"18\", \"19\", \"20\", \"21\", \"22\", \"23\", \"24\", \"25\", \"26\", \"27\", \"28\", \"29\", \"30\", \"31\", \"32\"], \"mode\": \"markers\", \"name\": \"AUC_macro\", \"stepped\": false, \"type\": \"scatter\", \"data\": [0.880044642857143, 0.9004091886123137, 0.855053887085137, 0.8423249233405483, 0.4677227257696007, 0.9071861659752285, 0.8338804713804715, 0.917901222041847, 0.4717509920634921, 0.748548054954305, 0.8567459941678692, 0.9044822856541608, 0.8596636378667629, 0.8181580687830687, 0.7269447826479076, 0.7036834490740741, 0.776342367123617, 0.8484213789682539, 0.8785625225468976, 0.8903831469456469, 0.833490597943723, 0.9022557983104859, 0.8766416771885522, 0.899036308020683, 0.8912583047739299, 0.5, 0.8796659301346802, 0.8743849957912457, 0.8913577741702742, 0.8606436011904762, 0.8906728933682058, 0.8823330026455027, 0.9133618175805676]}, {\"categories\": [\"0\", \"1\", \"2\", \"3\", \"4\", \"5\", \"6\", \"7\", \"8\", \"9\", \"10\", \"11\", \"12\", \"13\", \"14\", \"15\", \"16\", \"17\", \"18\", \"19\", \"20\", \"21\", \"22\", \"23\", \"24\", \"25\", \"26\", \"27\", \"28\", \"29\", \"30\", \"31\", \"32\"], \"mode\": \"lines\", \"name\": \"AUC_macro_max\", \"stepped\": true, \"type\": \"scatter\", \"data\": [0.880044642857143, 0.9004091886123137, 0.9004091886123137, 0.9004091886123137, 0.9004091886123137, 0.9071861659752285, 0.9071861659752285, 0.917901222041847, 0.917901222041847, 0.917901222041847, 0.917901222041847, 0.917901222041847, 0.917901222041847, 0.917901222041847, 0.917901222041847, 0.917901222041847, 0.917901222041847, 0.917901222041847, 0.917901222041847, 0.917901222041847, 0.917901222041847, 0.917901222041847, 0.917901222041847, 0.917901222041847, 0.917901222041847, 0.917901222041847, 0.917901222041847, 0.917901222041847, 0.917901222041847, 0.917901222041847, 0.917901222041847, 0.917901222041847, 0.917901222041847]}], \"AUC_weighted\": [{\"categories\": [\"0\", \"1\", \"2\", \"3\", \"4\", \"5\", \"6\", \"7\", \"8\", \"9\", \"10\", \"11\", \"12\", \"13\", \"14\", \"15\", \"16\", \"17\", \"18\", \"19\", \"20\", \"21\", \"22\", \"23\", \"24\", \"25\", \"26\", \"27\", \"28\", \"29\", \"30\", \"31\", \"32\"], \"mode\": \"markers\", \"name\": \"AUC_weighted\", \"stepped\": false, \"type\": \"scatter\", \"data\": [0.8800446428571428, 0.9004091886123137, 0.8550538870851371, 0.8423249233405483, 0.4677227257696008, 0.9071861659752285, 0.8338804713804715, 0.917901222041847, 0.471750992063492, 0.748548054954305, 0.8567459941678692, 0.9044822856541608, 0.8596636378667629, 0.8181580687830687, 0.7269447826479076, 0.703683449074074, 0.7763423671236171, 0.8484213789682539, 0.8785625225468976, 0.890383146945647, 0.833490597943723, 0.9022557983104859, 0.8766416771885522, 0.899036308020683, 0.8912583047739299, 0.5, 0.8796659301346802, 0.8743849957912457, 0.8913577741702742, 0.8606436011904762, 0.8906728933682059, 0.8823330026455027, 0.9133618175805676]}, {\"categories\": [\"0\", \"1\", \"2\", \"3\", \"4\", \"5\", \"6\", \"7\", \"8\", \"9\", \"10\", \"11\", \"12\", \"13\", \"14\", \"15\", \"16\", \"17\", \"18\", \"19\", \"20\", \"21\", \"22\", \"23\", \"24\", \"25\", \"26\", \"27\", \"28\", \"29\", \"30\", \"31\", \"32\"], \"mode\": \"lines\", \"name\": \"AUC_weighted_max\", \"stepped\": true, \"type\": \"scatter\", \"data\": [0.8800446428571428, 0.9004091886123137, 0.9004091886123137, 0.9004091886123137, 0.9004091886123137, 0.9071861659752285, 0.9071861659752285, 0.917901222041847, 0.917901222041847, 0.917901222041847, 0.917901222041847, 0.917901222041847, 0.917901222041847, 0.917901222041847, 0.917901222041847, 0.917901222041847, 0.917901222041847, 0.917901222041847, 0.917901222041847, 0.917901222041847, 0.917901222041847, 0.917901222041847, 0.917901222041847, 0.917901222041847, 0.917901222041847, 0.917901222041847, 0.917901222041847, 0.917901222041847, 0.917901222041847, 0.917901222041847, 0.917901222041847, 0.917901222041847, 0.917901222041847]}], \"recall_score_weighted\": [{\"categories\": [\"0\", \"1\", \"2\", \"3\", \"4\", \"5\", \"6\", \"7\", \"8\", \"9\", \"10\", \"11\", \"12\", \"13\", \"14\", \"15\", \"16\", \"17\", \"18\", \"19\", \"20\", \"21\", \"22\", \"23\", \"24\", \"25\", \"26\", \"27\", \"28\", \"29\", \"30\", \"31\", \"32\"], \"mode\": \"markers\", \"name\": \"recall_score_weighted\", \"stepped\": false, \"type\": \"scatter\", \"data\": [0.799290780141844, 0.8243794326241135, 0.7908687943262411, 0.7830673758865248, 0.5985815602836879, 0.8413120567375886, 0.7490248226950355, 0.8079787234042554, 0.611081560283688, 0.6904255319148935, 0.8036347517730495, 0.8328900709219859, 0.7450354609929078, 0.7156914893617021, 0.7281914893617023, 0.6990248226950355, 0.7534574468085106, 0.8074468085106383, 0.7745567375886525, 0.8327127659574469, 0.799113475177305, 0.8538120567375886, 0.812145390070922, 0.8203900709219857, 0.8200354609929077, 0.6697695035460993, 0.812145390070922, 0.8163120567375886, 0.8287234042553191, 0.7908687943262411, 0.8288120567375887, 0.7990248226950355, 0.874822695035461]}, {\"categories\": [\"0\", \"1\", \"2\", \"3\", \"4\", \"5\", \"6\", \"7\", \"8\", \"9\", \"10\", \"11\", \"12\", \"13\", \"14\", \"15\", \"16\", \"17\", \"18\", \"19\", \"20\", \"21\", \"22\", \"23\", \"24\", \"25\", \"26\", \"27\", \"28\", \"29\", \"30\", \"31\", \"32\"], \"mode\": \"lines\", \"name\": \"recall_score_weighted_max\", \"stepped\": true, \"type\": \"scatter\", \"data\": [0.799290780141844, 0.8243794326241135, 0.8243794326241135, 0.8243794326241135, 0.8243794326241135, 0.8413120567375886, 0.8413120567375886, 0.8413120567375886, 0.8413120567375886, 0.8413120567375886, 0.8413120567375886, 0.8413120567375886, 0.8413120567375886, 0.8413120567375886, 0.8413120567375886, 0.8413120567375886, 0.8413120567375886, 0.8413120567375886, 0.8413120567375886, 0.8413120567375886, 0.8413120567375886, 0.8538120567375886, 0.8538120567375886, 0.8538120567375886, 0.8538120567375886, 0.8538120567375886, 0.8538120567375886, 0.8538120567375886, 0.8538120567375886, 0.8538120567375886, 0.8538120567375886, 0.8538120567375886, 0.874822695035461]}], \"precision_score_weighted\": [{\"categories\": [\"0\", \"1\", \"2\", \"3\", \"4\", \"5\", \"6\", \"7\", \"8\", \"9\", \"10\", \"11\", \"12\", \"13\", \"14\", \"15\", \"16\", \"17\", \"18\", \"19\", \"20\", \"21\", \"22\", \"23\", \"24\", \"25\", \"26\", \"27\", \"28\", \"29\", \"30\", \"31\", \"32\"], \"mode\": \"markers\", \"name\": \"precision_score_weighted\", \"stepped\": false, \"type\": \"scatter\", \"data\": [0.7992402632927899, 0.8230455167577228, 0.7917404805809162, 0.785167096943001, 0.579021942457487, 0.8432842312829015, 0.7602205461999931, 0.8127202897083217, 0.5734715109539114, 0.6759448601070941, 0.8005653212036192, 0.8413142005634787, 0.7866100435442445, 0.7667253695659779, 0.7171672530970544, 0.6883073051746064, 0.7586446806112683, 0.8052569593527041, 0.7761622015909426, 0.8356560404667415, 0.800157687463695, 0.8562174387197855, 0.8130704173190875, 0.8203057825353273, 0.8220352267160779, 0.45058005287711883, 0.8126490452249213, 0.8191866274977976, 0.8290172276530224, 0.7886782755121468, 0.8348228130259445, 0.8060079589124014, 0.8768367485201027]}, {\"categories\": [\"0\", \"1\", \"2\", \"3\", \"4\", \"5\", \"6\", \"7\", \"8\", \"9\", \"10\", \"11\", \"12\", \"13\", \"14\", \"15\", \"16\", \"17\", \"18\", \"19\", \"20\", \"21\", \"22\", \"23\", \"24\", \"25\", \"26\", \"27\", \"28\", \"29\", \"30\", \"31\", \"32\"], \"mode\": \"lines\", \"name\": \"precision_score_weighted_max\", \"stepped\": true, \"type\": \"scatter\", \"data\": [0.7992402632927899, 0.8230455167577228, 0.8230455167577228, 0.8230455167577228, 0.8230455167577228, 0.8432842312829015, 0.8432842312829015, 0.8432842312829015, 0.8432842312829015, 0.8432842312829015, 0.8432842312829015, 0.8432842312829015, 0.8432842312829015, 0.8432842312829015, 0.8432842312829015, 0.8432842312829015, 0.8432842312829015, 0.8432842312829015, 0.8432842312829015, 0.8432842312829015, 0.8432842312829015, 0.8562174387197855, 0.8562174387197855, 0.8562174387197855, 0.8562174387197855, 0.8562174387197855, 0.8562174387197855, 0.8562174387197855, 0.8562174387197855, 0.8562174387197855, 0.8562174387197855, 0.8562174387197855, 0.8768367485201027]}], \"accuracy\": [{\"categories\": [\"0\", \"1\", \"2\", \"3\", \"4\", \"5\", \"6\", \"7\", \"8\", \"9\", \"10\", \"11\", \"12\", \"13\", \"14\", \"15\", \"16\", \"17\", \"18\", \"19\", \"20\", \"21\", \"22\", \"23\", \"24\", \"25\", \"26\", \"27\", \"28\", \"29\", \"30\", \"31\", \"32\"], \"mode\": \"markers\", \"name\": \"accuracy\", \"stepped\": false, \"type\": \"scatter\", \"data\": [0.799290780141844, 0.8243794326241135, 0.7908687943262411, 0.7830673758865248, 0.5985815602836879, 0.8413120567375886, 0.7490248226950355, 0.8079787234042554, 0.611081560283688, 0.6904255319148935, 0.8036347517730495, 0.8328900709219859, 0.7450354609929078, 0.7156914893617021, 0.7281914893617023, 0.6990248226950355, 0.7534574468085106, 0.8074468085106383, 0.7745567375886525, 0.8327127659574469, 0.799113475177305, 0.8538120567375886, 0.812145390070922, 0.8203900709219857, 0.8200354609929077, 0.6697695035460993, 0.812145390070922, 0.8163120567375886, 0.8287234042553191, 0.7908687943262411, 0.8288120567375887, 0.7990248226950355, 0.874822695035461]}, {\"categories\": [\"0\", \"1\", \"2\", \"3\", \"4\", \"5\", \"6\", \"7\", \"8\", \"9\", \"10\", \"11\", \"12\", \"13\", \"14\", \"15\", \"16\", \"17\", \"18\", \"19\", \"20\", \"21\", \"22\", \"23\", \"24\", \"25\", \"26\", \"27\", \"28\", \"29\", \"30\", \"31\", \"32\"], \"mode\": \"lines\", \"name\": \"accuracy_max\", \"stepped\": true, \"type\": \"scatter\", \"data\": [0.799290780141844, 0.8243794326241135, 0.8243794326241135, 0.8243794326241135, 0.8243794326241135, 0.8413120567375886, 0.8413120567375886, 0.8413120567375886, 0.8413120567375886, 0.8413120567375886, 0.8413120567375886, 0.8413120567375886, 0.8413120567375886, 0.8413120567375886, 0.8413120567375886, 0.8413120567375886, 0.8413120567375886, 0.8413120567375886, 0.8413120567375886, 0.8413120567375886, 0.8413120567375886, 0.8538120567375886, 0.8538120567375886, 0.8538120567375886, 0.8538120567375886, 0.8538120567375886, 0.8538120567375886, 0.8538120567375886, 0.8538120567375886, 0.8538120567375886, 0.8538120567375886, 0.8538120567375886, 0.874822695035461]}], \"balanced_accuracy\": [{\"categories\": [\"0\", \"1\", \"2\", \"3\", \"4\", \"5\", \"6\", \"7\", \"8\", \"9\", \"10\", \"11\", \"12\", \"13\", \"14\", \"15\", \"16\", \"17\", \"18\", \"19\", \"20\", \"21\", \"22\", \"23\", \"24\", \"25\", \"26\", \"27\", \"28\", \"29\", \"30\", \"31\", \"32\"], \"mode\": \"markers\", \"name\": \"balanced_accuracy\", \"stepped\": false, \"type\": \"scatter\", \"data\": [0.7646356421356422, 0.7821203102453101, 0.7603697691197692, 0.7275117243867244, 0.5146121933621933, 0.8069209956709956, 0.7289808802308803, 0.7468362193362194, 0.5111246392496394, 0.6059695165945167, 0.7579879148629148, 0.8297294372294373, 0.765712481962482, 0.575501443001443, 0.6511724386724387, 0.5964502164502165, 0.6838014069264069, 0.750254329004329, 0.7198719336219336, 0.7924666305916306, 0.7519110750360751, 0.8192568542568542, 0.7882909451659452, 0.791554834054834, 0.7727696608946608, 0.5, 0.7728932178932179, 0.7810876623376622, 0.7862012987012987, 0.729143217893218, 0.7737112193362193, 0.7820012626262626, 0.8408991702741702]}, {\"categories\": [\"0\", \"1\", \"2\", \"3\", \"4\", \"5\", \"6\", \"7\", \"8\", \"9\", \"10\", \"11\", \"12\", \"13\", \"14\", \"15\", \"16\", \"17\", \"18\", \"19\", \"20\", \"21\", \"22\", \"23\", \"24\", \"25\", \"26\", \"27\", \"28\", \"29\", \"30\", \"31\", \"32\"], \"mode\": \"lines\", \"name\": \"balanced_accuracy_max\", \"stepped\": true, \"type\": \"scatter\", \"data\": [0.7646356421356422, 0.7821203102453101, 0.7821203102453101, 0.7821203102453101, 0.7821203102453101, 0.8069209956709956, 0.8069209956709956, 0.8069209956709956, 0.8069209956709956, 0.8069209956709956, 0.8069209956709956, 0.8297294372294373, 0.8297294372294373, 0.8297294372294373, 0.8297294372294373, 0.8297294372294373, 0.8297294372294373, 0.8297294372294373, 0.8297294372294373, 0.8297294372294373, 0.8297294372294373, 0.8297294372294373, 0.8297294372294373, 0.8297294372294373, 0.8297294372294373, 0.8297294372294373, 0.8297294372294373, 0.8297294372294373, 0.8297294372294373, 0.8297294372294373, 0.8297294372294373, 0.8297294372294373, 0.8408991702741702]}], \"log_loss\": [{\"categories\": [\"0\", \"1\", \"2\", \"3\", \"4\", \"5\", \"6\", \"7\", \"8\", \"9\", \"10\", \"11\", \"12\", \"13\", \"14\", \"15\", \"16\", \"17\", \"18\", \"19\", \"20\", \"21\", \"22\", \"23\", \"24\", \"25\", \"26\", \"27\", \"28\", \"29\", \"30\", \"31\", \"32\"], \"mode\": \"markers\", \"name\": \"log_loss\", \"stepped\": false, \"type\": \"scatter\", \"data\": [0.48094789554284045, 0.40389855060619545, 0.5353286130713493, 0.5303209020711859, 2.4311285041548034, 0.3974483993846733, 0.49259914843458324, 0.4719181385280956, 1.6081392207763472, 0.5598996111634906, 0.5120495625855114, 0.471100441125235, 0.5007745245959722, 0.5215392347978999, 2.5536995871279453, 1.2551332100178136, 0.6593748217993888, 0.44628732500885865, 0.5274110625640983, 0.5019832837904931, 0.46775716431079867, 0.46664425086547523, 0.6687040522186594, 0.39566332666592763, 0.4372609866254645, 0.6444014690020983, 0.4403974472939434, 0.42224742572618934, 0.3883725302792672, 0.5070343326870178, 0.441955615779967, 0.47393225786905474, 0.43324024096264857]}, {\"categories\": [\"0\", \"1\", \"2\", \"3\", \"4\", \"5\", \"6\", \"7\", \"8\", \"9\", \"10\", \"11\", \"12\", \"13\", \"14\", \"15\", \"16\", \"17\", \"18\", \"19\", \"20\", \"21\", \"22\", \"23\", \"24\", \"25\", \"26\", \"27\", \"28\", \"29\", \"30\", \"31\", \"32\"], \"mode\": \"lines\", \"name\": \"log_loss_min\", \"stepped\": true, \"type\": \"scatter\", \"data\": [0.48094789554284045, 0.40389855060619545, 0.40389855060619545, 0.40389855060619545, 0.40389855060619545, 0.3974483993846733, 0.3974483993846733, 0.3974483993846733, 0.3974483993846733, 0.3974483993846733, 0.3974483993846733, 0.3974483993846733, 0.3974483993846733, 0.3974483993846733, 0.3974483993846733, 0.3974483993846733, 0.3974483993846733, 0.3974483993846733, 0.3974483993846733, 0.3974483993846733, 0.3974483993846733, 0.3974483993846733, 0.3974483993846733, 0.39566332666592763, 0.39566332666592763, 0.39566332666592763, 0.39566332666592763, 0.39566332666592763, 0.3883725302792672, 0.3883725302792672, 0.3883725302792672, 0.3883725302792672, 0.3883725302792672]}], \"recall_score_micro\": [{\"categories\": [\"0\", \"1\", \"2\", \"3\", \"4\", \"5\", \"6\", \"7\", \"8\", \"9\", \"10\", \"11\", \"12\", \"13\", \"14\", \"15\", \"16\", \"17\", \"18\", \"19\", \"20\", \"21\", \"22\", \"23\", \"24\", \"25\", \"26\", \"27\", \"28\", \"29\", \"30\", \"31\", \"32\"], \"mode\": \"markers\", \"name\": \"recall_score_micro\", \"stepped\": false, \"type\": \"scatter\", \"data\": [0.799290780141844, 0.8243794326241135, 0.7908687943262411, 0.7830673758865248, 0.5985815602836879, 0.8413120567375886, 0.7490248226950355, 0.8079787234042554, 0.611081560283688, 0.6904255319148935, 0.8036347517730495, 0.8328900709219859, 0.7450354609929078, 0.7156914893617021, 0.7281914893617023, 0.6990248226950355, 0.7534574468085106, 0.8074468085106383, 0.7745567375886525, 0.8327127659574469, 0.799113475177305, 0.8538120567375886, 0.812145390070922, 0.8203900709219857, 0.8200354609929077, 0.6697695035460993, 0.812145390070922, 0.8163120567375886, 0.8287234042553191, 0.7908687943262411, 0.8288120567375887, 0.7990248226950355, 0.874822695035461]}, {\"categories\": [\"0\", \"1\", \"2\", \"3\", \"4\", \"5\", \"6\", \"7\", \"8\", \"9\", \"10\", \"11\", \"12\", \"13\", \"14\", \"15\", \"16\", \"17\", \"18\", \"19\", \"20\", \"21\", \"22\", \"23\", \"24\", \"25\", \"26\", \"27\", \"28\", \"29\", \"30\", \"31\", \"32\"], \"mode\": \"lines\", \"name\": \"recall_score_micro_max\", \"stepped\": true, \"type\": \"scatter\", \"data\": [0.799290780141844, 0.8243794326241135, 0.8243794326241135, 0.8243794326241135, 0.8243794326241135, 0.8413120567375886, 0.8413120567375886, 0.8413120567375886, 0.8413120567375886, 0.8413120567375886, 0.8413120567375886, 0.8413120567375886, 0.8413120567375886, 0.8413120567375886, 0.8413120567375886, 0.8413120567375886, 0.8413120567375886, 0.8413120567375886, 0.8413120567375886, 0.8413120567375886, 0.8413120567375886, 0.8538120567375886, 0.8538120567375886, 0.8538120567375886, 0.8538120567375886, 0.8538120567375886, 0.8538120567375886, 0.8538120567375886, 0.8538120567375886, 0.8538120567375886, 0.8538120567375886, 0.8538120567375886, 0.874822695035461]}], \"precision_score_micro\": [{\"categories\": [\"0\", \"1\", \"2\", \"3\", \"4\", \"5\", \"6\", \"7\", \"8\", \"9\", \"10\", \"11\", \"12\", \"13\", \"14\", \"15\", \"16\", \"17\", \"18\", \"19\", \"20\", \"21\", \"22\", \"23\", \"24\", \"25\", \"26\", \"27\", \"28\", \"29\", \"30\", \"31\", \"32\"], \"mode\": \"markers\", \"name\": \"precision_score_micro\", \"stepped\": false, \"type\": \"scatter\", \"data\": [0.799290780141844, 0.8243794326241135, 0.7908687943262411, 0.7830673758865248, 0.5985815602836879, 0.8413120567375886, 0.7490248226950355, 0.8079787234042554, 0.611081560283688, 0.6904255319148935, 0.8036347517730495, 0.8328900709219859, 0.7450354609929078, 0.7156914893617021, 0.7281914893617023, 0.6990248226950355, 0.7534574468085106, 0.8074468085106383, 0.7745567375886525, 0.8327127659574469, 0.799113475177305, 0.8538120567375886, 0.812145390070922, 0.8203900709219857, 0.8200354609929077, 0.6697695035460993, 0.812145390070922, 0.8163120567375886, 0.8287234042553191, 0.7908687943262411, 0.8288120567375887, 0.7990248226950355, 0.874822695035461]}, {\"categories\": [\"0\", \"1\", \"2\", \"3\", \"4\", \"5\", \"6\", \"7\", \"8\", \"9\", \"10\", \"11\", \"12\", \"13\", \"14\", \"15\", \"16\", \"17\", \"18\", \"19\", \"20\", \"21\", \"22\", \"23\", \"24\", \"25\", \"26\", \"27\", \"28\", \"29\", \"30\", \"31\", \"32\"], \"mode\": \"lines\", \"name\": \"precision_score_micro_max\", \"stepped\": true, \"type\": \"scatter\", \"data\": [0.799290780141844, 0.8243794326241135, 0.8243794326241135, 0.8243794326241135, 0.8243794326241135, 0.8413120567375886, 0.8413120567375886, 0.8413120567375886, 0.8413120567375886, 0.8413120567375886, 0.8413120567375886, 0.8413120567375886, 0.8413120567375886, 0.8413120567375886, 0.8413120567375886, 0.8413120567375886, 0.8413120567375886, 0.8413120567375886, 0.8413120567375886, 0.8413120567375886, 0.8413120567375886, 0.8538120567375886, 0.8538120567375886, 0.8538120567375886, 0.8538120567375886, 0.8538120567375886, 0.8538120567375886, 0.8538120567375886, 0.8538120567375886, 0.8538120567375886, 0.8538120567375886, 0.8538120567375886, 0.874822695035461]}], \"f1_score_weighted\": [{\"categories\": [\"0\", \"1\", \"2\", \"3\", \"4\", \"5\", \"6\", \"7\", \"8\", \"9\", \"10\", \"11\", \"12\", \"13\", \"14\", \"15\", \"16\", \"17\", \"18\", \"19\", \"20\", \"21\", \"22\", \"23\", \"24\", \"25\", \"26\", \"27\", \"28\", \"29\", \"30\", \"31\", \"32\"], \"mode\": \"markers\", \"name\": \"f1_score_weighted\", \"stepped\": false, \"type\": \"scatter\", \"data\": [0.7975746987299736, 0.8212145300306843, 0.7901404970079493, 0.7693650556453517, 0.585560791759417, 0.8372639293136427, 0.7520502262977421, 0.793582850546471, 0.5850641592062791, 0.669944648158135, 0.7958053468652713, 0.8346157230846764, 0.7515175748971787, 0.64177380187003, 0.7119564536279803, 0.6624142211059175, 0.7325306404067355, 0.799470305206104, 0.758144256381224, 0.8281969004796137, 0.7944197183199313, 0.849523631049834, 0.8110843774901669, 0.81913036447996, 0.8145236816205556, 0.5381520291198547, 0.8052344097767863, 0.8115936792600907, 0.823240152014795, 0.7819263359348531, 0.8176105603043353, 0.8013713539352014, 0.8712490780886822]}, {\"categories\": [\"0\", \"1\", \"2\", \"3\", \"4\", \"5\", \"6\", \"7\", \"8\", \"9\", \"10\", \"11\", \"12\", \"13\", \"14\", \"15\", \"16\", \"17\", \"18\", \"19\", \"20\", \"21\", \"22\", \"23\", \"24\", \"25\", \"26\", \"27\", \"28\", \"29\", \"30\", \"31\", \"32\"], \"mode\": \"lines\", \"name\": \"f1_score_weighted_max\", \"stepped\": true, \"type\": \"scatter\", \"data\": [0.7975746987299736, 0.8212145300306843, 0.8212145300306843, 0.8212145300306843, 0.8212145300306843, 0.8372639293136427, 0.8372639293136427, 0.8372639293136427, 0.8372639293136427, 0.8372639293136427, 0.8372639293136427, 0.8372639293136427, 0.8372639293136427, 0.8372639293136427, 0.8372639293136427, 0.8372639293136427, 0.8372639293136427, 0.8372639293136427, 0.8372639293136427, 0.8372639293136427, 0.8372639293136427, 0.849523631049834, 0.849523631049834, 0.849523631049834, 0.849523631049834, 0.849523631049834, 0.849523631049834, 0.849523631049834, 0.849523631049834, 0.849523631049834, 0.849523631049834, 0.849523631049834, 0.8712490780886822]}], \"recall_score_macro\": [{\"categories\": [\"0\", \"1\", \"2\", \"3\", \"4\", \"5\", \"6\", \"7\", \"8\", \"9\", \"10\", \"11\", \"12\", \"13\", \"14\", \"15\", \"16\", \"17\", \"18\", \"19\", \"20\", \"21\", \"22\", \"23\", \"24\", \"25\", \"26\", \"27\", \"28\", \"29\", \"30\", \"31\", \"32\"], \"mode\": \"markers\", \"name\": \"recall_score_macro\", \"stepped\": false, \"type\": \"scatter\", \"data\": [0.7646356421356422, 0.7821203102453101, 0.7603697691197692, 0.7275117243867244, 0.5146121933621933, 0.8069209956709956, 0.7289808802308803, 0.7468362193362194, 0.5111246392496394, 0.6059695165945167, 0.7579879148629148, 0.8297294372294373, 0.765712481962482, 0.575501443001443, 0.6511724386724387, 0.5964502164502165, 0.6838014069264069, 0.750254329004329, 0.7198719336219336, 0.7924666305916306, 0.7519110750360751, 0.8192568542568542, 0.7882909451659452, 0.791554834054834, 0.7727696608946608, 0.5, 0.7728932178932179, 0.7810876623376622, 0.7862012987012987, 0.729143217893218, 0.7737112193362193, 0.7820012626262626, 0.8408991702741702]}, {\"categories\": [\"0\", \"1\", \"2\", \"3\", \"4\", \"5\", \"6\", \"7\", \"8\", \"9\", \"10\", \"11\", \"12\", \"13\", \"14\", \"15\", \"16\", \"17\", \"18\", \"19\", \"20\", \"21\", \"22\", \"23\", \"24\", \"25\", \"26\", \"27\", \"28\", \"29\", \"30\", \"31\", \"32\"], \"mode\": \"lines\", \"name\": \"recall_score_macro_max\", \"stepped\": true, \"type\": \"scatter\", \"data\": [0.7646356421356422, 0.7821203102453101, 0.7821203102453101, 0.7821203102453101, 0.7821203102453101, 0.8069209956709956, 0.8069209956709956, 0.8069209956709956, 0.8069209956709956, 0.8069209956709956, 0.8069209956709956, 0.8297294372294373, 0.8297294372294373, 0.8297294372294373, 0.8297294372294373, 0.8297294372294373, 0.8297294372294373, 0.8297294372294373, 0.8297294372294373, 0.8297294372294373, 0.8297294372294373, 0.8297294372294373, 0.8297294372294373, 0.8297294372294373, 0.8297294372294373, 0.8297294372294373, 0.8297294372294373, 0.8297294372294373, 0.8297294372294373, 0.8297294372294373, 0.8297294372294373, 0.8297294372294373, 0.8408991702741702]}], \"average_precision_score_macro\": [{\"categories\": [\"0\", \"1\", \"2\", \"3\", \"4\", \"5\", \"6\", \"7\", \"8\", \"9\", \"10\", \"11\", \"12\", \"13\", \"14\", \"15\", \"16\", \"17\", \"18\", \"19\", \"20\", \"21\", \"22\", \"23\", \"24\", \"25\", \"26\", \"27\", \"28\", \"29\", \"30\", \"31\", \"32\"], \"mode\": \"markers\", \"name\": \"average_precision_score_macro\", \"stepped\": false, \"type\": \"scatter\", \"data\": [0.8603972381105146, 0.8901818198218845, 0.8427845131706284, 0.8332604649590749, 0.5175725516270395, 0.8905497318108111, 0.8155120584202052, 0.9006295961720422, 0.519028135553798, 0.7156469197728915, 0.8427736161190913, 0.886839849339286, 0.8509089214439616, 0.8090062283911681, 0.7053005532181768, 0.6799607910389364, 0.7751373408533844, 0.8337536372333995, 0.8616657698779188, 0.8775003113971259, 0.8155221037022249, 0.8850461542038023, 0.8622639934845369, 0.8826406069977685, 0.8799728770303566, 0.5, 0.8587699449472878, 0.8613232189335001, 0.8727801932954314, 0.846766021817092, 0.866609455941606, 0.8698385156353478, 0.9015330555994943]}, {\"categories\": [\"0\", \"1\", \"2\", \"3\", \"4\", \"5\", \"6\", \"7\", \"8\", \"9\", \"10\", \"11\", \"12\", \"13\", \"14\", \"15\", \"16\", \"17\", \"18\", \"19\", \"20\", \"21\", \"22\", \"23\", \"24\", \"25\", \"26\", \"27\", \"28\", \"29\", \"30\", \"31\", \"32\"], \"mode\": \"lines\", \"name\": \"average_precision_score_macro_max\", \"stepped\": true, \"type\": \"scatter\", \"data\": [0.8603972381105146, 0.8901818198218845, 0.8901818198218845, 0.8901818198218845, 0.8901818198218845, 0.8905497318108111, 0.8905497318108111, 0.9006295961720422, 0.9006295961720422, 0.9006295961720422, 0.9006295961720422, 0.9006295961720422, 0.9006295961720422, 0.9006295961720422, 0.9006295961720422, 0.9006295961720422, 0.9006295961720422, 0.9006295961720422, 0.9006295961720422, 0.9006295961720422, 0.9006295961720422, 0.9006295961720422, 0.9006295961720422, 0.9006295961720422, 0.9006295961720422, 0.9006295961720422, 0.9006295961720422, 0.9006295961720422, 0.9006295961720422, 0.9006295961720422, 0.9006295961720422, 0.9006295961720422, 0.9015330555994943]}]}, \"metricName\": null, \"primaryMetricName\": \"accuracy\", \"showLegend\": false}, \"run_metrics\": [{\"name\": \"AUC_micro\", \"run_id\": \"AutoML_9469f479-f934-476a-b99d-da4eafed7a22\", \"categories\": [0], \"series\": [{\"data\": [0.9172734017403551]}]}, {\"name\": \"accuracy\", \"run_id\": \"AutoML_9469f479-f934-476a-b99d-da4eafed7a22\", \"categories\": [0], \"series\": [{\"data\": [0.874822695035461]}]}, {\"name\": \"recall_score_weighted\", \"run_id\": \"AutoML_9469f479-f934-476a-b99d-da4eafed7a22\", \"categories\": [0], \"series\": [{\"data\": [0.874822695035461]}]}, {\"name\": \"average_precision_score_macro\", \"run_id\": \"AutoML_9469f479-f934-476a-b99d-da4eafed7a22\", \"categories\": [0], \"series\": [{\"data\": [0.9015330555994943]}]}, {\"name\": \"recall_score_micro\", \"run_id\": \"AutoML_9469f479-f934-476a-b99d-da4eafed7a22\", \"categories\": [0], \"series\": [{\"data\": [0.874822695035461]}]}, {\"name\": \"f1_score_weighted\", \"run_id\": \"AutoML_9469f479-f934-476a-b99d-da4eafed7a22\", \"categories\": [0], \"series\": [{\"data\": [0.8712490780886822]}]}, {\"name\": \"precision_score_micro\", \"run_id\": \"AutoML_9469f479-f934-476a-b99d-da4eafed7a22\", \"categories\": [0], \"series\": [{\"data\": [0.874822695035461]}]}, {\"name\": \"balanced_accuracy\", \"run_id\": \"AutoML_9469f479-f934-476a-b99d-da4eafed7a22\", \"categories\": [0], \"series\": [{\"data\": [0.8408991702741702]}]}, {\"name\": \"AUC_macro\", \"run_id\": \"AutoML_9469f479-f934-476a-b99d-da4eafed7a22\", \"categories\": [0], \"series\": [{\"data\": [0.9133618175805676]}]}, {\"name\": \"f1_score_micro\", \"run_id\": \"AutoML_9469f479-f934-476a-b99d-da4eafed7a22\", \"categories\": [0], \"series\": [{\"data\": [0.874822695035461]}]}, {\"name\": \"log_loss\", \"run_id\": \"AutoML_9469f479-f934-476a-b99d-da4eafed7a22\", \"categories\": [0], \"series\": [{\"data\": [0.43324024096264857]}]}, {\"name\": \"precision_score_weighted\", \"run_id\": \"AutoML_9469f479-f934-476a-b99d-da4eafed7a22\", \"categories\": [0], \"series\": [{\"data\": [0.8768367485201027]}]}, {\"name\": \"f1_score_macro\", \"run_id\": \"AutoML_9469f479-f934-476a-b99d-da4eafed7a22\", \"categories\": [0], \"series\": [{\"data\": [0.8525962885154061]}]}, {\"name\": \"matthews_correlation\", \"run_id\": \"AutoML_9469f479-f934-476a-b99d-da4eafed7a22\", \"categories\": [0], \"series\": [{\"data\": [0.7151734817492599]}]}, {\"name\": \"AUC_weighted\", \"run_id\": \"AutoML_9469f479-f934-476a-b99d-da4eafed7a22\", \"categories\": [0], \"series\": [{\"data\": [0.9133618175805676]}]}, {\"name\": \"recall_score_macro\", \"run_id\": \"AutoML_9469f479-f934-476a-b99d-da4eafed7a22\", \"categories\": [0], \"series\": [{\"data\": [0.8408991702741702]}]}, {\"name\": \"average_precision_score_micro\", \"run_id\": \"AutoML_9469f479-f934-476a-b99d-da4eafed7a22\", \"categories\": [0], \"series\": [{\"data\": [0.9198838149002964]}]}, {\"name\": \"weighted_accuracy\", \"run_id\": \"AutoML_9469f479-f934-476a-b99d-da4eafed7a22\", \"categories\": [0], \"series\": [{\"data\": [0.9020908324205033]}]}, {\"name\": \"norm_macro_recall\", \"run_id\": \"AutoML_9469f479-f934-476a-b99d-da4eafed7a22\", \"categories\": [0], \"series\": [{\"data\": [0.6817983405483405]}]}, {\"name\": \"average_precision_score_weighted\", \"run_id\": \"AutoML_9469f479-f934-476a-b99d-da4eafed7a22\", \"categories\": [0], \"series\": [{\"data\": [0.9201841043277417]}]}, {\"name\": \"precision_score_macro\", \"run_id\": \"AutoML_9469f479-f934-476a-b99d-da4eafed7a22\", \"categories\": [0], \"series\": [{\"data\": [0.8754431516196222]}]}], \"run_logs\": \"\\nRun is completed.\", \"graph\": {}, \"widget_settings\": {\"childWidgetDisplay\": \"popup\", \"send_telemetry\": false, \"log_level\": \"INFO\", \"sdk_version\": \"1.33.0\"}, \"loading\": false}"
     },
     "metadata": {},
     "output_type": "display_data"
    }
   ],
   "source": [
    "from azureml.widgets import RunDetails\n",
    "RunDetails(remote_run).show()"
   ]
  },
  {
   "cell_type": "markdown",
   "metadata": {},
   "source": [
    "## Best Model\n",
    "\n",
    "TODO: In the cell below, get the best model from the automl experiments and display all the properties of the model.\n",
    "\n"
   ]
  },
  {
   "cell_type": "code",
   "execution_count": 19,
   "metadata": {
    "gather": {
     "logged": 1598431425670
    },
    "jupyter": {
     "outputs_hidden": false,
     "source_hidden": false
    },
    "nteract": {
     "transient": {
      "deleting": false
     }
    }
   },
   "outputs": [
    {
     "data": {
      "text/plain": [
       "Pipeline(memory=None,\n",
       "         steps=[('datatransformer',\n",
       "                 DataTransformer(enable_dnn=False, enable_feature_sweeping=True, feature_sweeping_config={}, feature_sweeping_timeout=86400, featurization_config=None, force_text_dnn=False, is_cross_validation=True, is_onnx_compatible=False, observer=None, task='classification', working_dir='/mnt/batch/tasks/shared/LS_root/mount...\n",
       "), random_state=0, reg_alpha=1.25, reg_lambda=0.8333333333333334, subsample=0.6, tree_method='auto'))], verbose=False)), ('17', Pipeline(memory=None, steps=[('maxabsscaler', MaxAbsScaler(copy=True)), ('logisticregression', LogisticRegression(C=1.7575106248547894, class_weight=None, dual=False, fit_intercept=True, intercept_scaling=1, l1_ratio=None, max_iter=100, multi_class='multinomial', n_jobs=1, penalty='l2', random_state=None, solver='lbfgs', tol=0.0001, verbose=0, warm_start=False))], verbose=False))], flatten_transform=None, weights=[0.16666666666666666, 0.08333333333333333, 0.16666666666666666, 0.16666666666666666, 0.08333333333333333, 0.16666666666666666, 0.16666666666666666]))],\n",
       "         verbose=False)"
      ]
     },
     "execution_count": 19,
     "metadata": {},
     "output_type": "execute_result"
    }
   ],
   "source": [
    "best_run, best_model = remote_run.get_output()\n",
    "best_model"
   ]
  },
  {
   "cell_type": "code",
   "execution_count": 20,
   "metadata": {
    "gather": {
     "logged": 1598431426111
    },
    "jupyter": {
     "outputs_hidden": false,
     "source_hidden": false
    },
    "nteract": {
     "transient": {
      "deleting": false
     }
    }
   },
   "outputs": [
    {
     "data": {
      "text/html": [
       "<table style=\"width:100%\"><tr><th>Experiment</th><th>Id</th><th>Type</th><th>Status</th><th>Details Page</th><th>Docs Page</th></tr><tr><td>CapstoneProject</td><td>AutoML_9469f479-f934-476a-b99d-da4eafed7a22_32</td><td></td><td>Completed</td><td><a href=\"https://ml.azure.com/runs/AutoML_9469f479-f934-476a-b99d-da4eafed7a22_32?wsid=/subscriptions/5a4ab2ba-6c51-4805-8155-58759ad589d8/resourcegroups/aml-quickstarts-155546/workspaces/quick-starts-ws-155546&amp;tid=660b3398-b80e-49d2-bc5b-ac1dc93b5254\" target=\"_blank\" rel=\"noopener\">Link to Azure Machine Learning studio</a></td><td><a href=\"https://docs.microsoft.com/en-us/python/api/azureml-core/azureml.core.run.Run?view=azure-ml-py\" target=\"_blank\" rel=\"noopener\">Link to Documentation</a></td></tr></table>"
      ],
      "text/plain": [
       "Run(Experiment: CapstoneProject,\n",
       "Id: AutoML_9469f479-f934-476a-b99d-da4eafed7a22_32,\n",
       "Type: None,\n",
       "Status: Completed)"
      ]
     },
     "execution_count": 20,
     "metadata": {},
     "output_type": "execute_result"
    }
   ],
   "source": [
    "#TODO: Save the best model\n",
    "best_run"
   ]
  },
  {
   "cell_type": "markdown",
   "metadata": {},
   "source": [
    "## Model Deployment\n",
    "\n",
    "Remember you have to deploy only one of the two models you trained.. Perform the steps in the rest of this notebook only if you wish to deploy this model.\n",
    "\n",
    "TODO: In the cell below, register the model, create an inference config and deploy the model as a web service."
   ]
  },
  {
   "cell_type": "code",
   "execution_count": null,
   "metadata": {
    "gather": {
     "logged": 1598431435189
    },
    "jupyter": {
     "outputs_hidden": false,
     "source_hidden": false
    },
    "nteract": {
     "transient": {
      "deleting": false
     }
    }
   },
   "outputs": [],
   "source": []
  },
  {
   "cell_type": "markdown",
   "metadata": {
    "collapsed": true,
    "gather": {
     "logged": 1598431657736
    },
    "jupyter": {
     "outputs_hidden": false,
     "source_hidden": false
    },
    "nteract": {
     "transient": {
      "deleting": false
     }
    }
   },
   "source": [
    "TODO: In the cell below, send a request to the web service you deployed to test it."
   ]
  },
  {
   "cell_type": "code",
   "execution_count": null,
   "metadata": {
    "gather": {
     "logged": 1598432707604
    },
    "jupyter": {
     "outputs_hidden": false,
     "source_hidden": false
    },
    "nteract": {
     "transient": {
      "deleting": false
     }
    }
   },
   "outputs": [],
   "source": []
  },
  {
   "cell_type": "markdown",
   "metadata": {
    "collapsed": true,
    "gather": {
     "logged": 1598432765711
    },
    "jupyter": {
     "outputs_hidden": false,
     "source_hidden": false
    },
    "nteract": {
     "transient": {
      "deleting": false
     }
    }
   },
   "source": [
    "TODO: In the cell below, print the logs of the web service and delete the service"
   ]
  },
  {
   "cell_type": "code",
   "execution_count": null,
   "metadata": {
    "jupyter": {
     "outputs_hidden": false,
     "source_hidden": false
    },
    "nteract": {
     "transient": {
      "deleting": false
     }
    }
   },
   "outputs": [],
   "source": []
  }
 ],
 "metadata": {
  "kernel_info": {
   "name": "python3-azureml"
  },
  "kernelspec": {
   "display_name": "Python 3",
   "language": "python",
   "name": "python3"
  },
  "language_info": {
   "codemirror_mode": {
    "name": "ipython",
    "version": 3
   },
   "file_extension": ".py",
   "mimetype": "text/x-python",
   "name": "python",
   "nbconvert_exporter": "python",
   "pygments_lexer": "ipython3",
   "version": "3.6.9"
  },
  "nteract": {
   "version": "nteract-front-end@1.0.0"
  }
 },
 "nbformat": 4,
 "nbformat_minor": 2
}
